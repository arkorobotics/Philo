{
 "cells": [
  {
   "cell_type": "markdown",
   "metadata": {},
   "source": [
    "# Philo - Cold Gas Engine Simulator\n",
    "-------------------------------------------------------------\n",
    "A small-scale cold gas VTVL rocket\n",
    "\n",
    "By: Ara Kourchians"
   ]
  },
  {
   "cell_type": "code",
   "execution_count": 48,
   "metadata": {
    "collapsed": true
   },
   "outputs": [],
   "source": [
    "import matplotlib\n",
    "import numpy as np\n",
    "import matplotlib.pyplot as plt"
   ]
  },
  {
   "cell_type": "markdown",
   "metadata": {},
   "source": [
    "\n",
    "The goal of this notebook is to outline the process for determining the optimal engine parameters for a cold gas rocket engine, as well as an estimate time of flight assuming a hover. It's important to keep in mind that the values we generate have to be realistic and reasonable. Once we obtain these rough numbers, we can evaluate and tune them to match existing COTS, and if necessary, fabricate custom parts."
   ]
  },
  {
   "cell_type": "markdown",
   "metadata": {},
   "source": [
    "Before we dive in, we must first state our assumptions and initial parameters. The assumptions allow us to simplify the model, while the initial parameters give us a starting point to work from.\n",
    "\n",
    "\n",
    "### Assumptions\n",
    "1. Processes within the engine are Isentropic\n",
    "2. Flow is choked at the throat of the nozzle where Ma = 1\n",
    "3. Pb = 101.325kPa (Ambient Pressure)\n",
    "4. Tb = 298.15K (Ambient Temperature)\n",
    "\n",
    "### Initial Vehicle Model\n",
    "1. Propellant:       Air, cp = 0.846, cv = 0.657, gamma = 1.28\n",
    "2. Dry mass        = 1.89kg\n",
    "3. Propellant mass = 0.53kg"
   ]
  },
  {
   "cell_type": "code",
   "execution_count": 49,
   "metadata": {
    "collapsed": true
   },
   "outputs": [],
   "source": [
    "# Environment Properties\n",
    "P_atm = 101325           # Pa (Ambient Pressure)\n",
    "T_atm = 298.15           # K (Ambient Temperature)\n",
    "T_o = 298.15             # K (Tank Temperature)\n",
    "R = 8.314                # J/(K*mol)\n",
    "g = 9.81                 # m/s^2\n",
    "\n",
    "# Propellant Properties \n",
    "cp = 1.005               # Constant pressure specific heat\n",
    "cv = 0.718               # Constant volume specific heat\n",
    "molar_mass = 0.02897     # kg/mol\n",
    "gamma = cp/cv            # Specific Heat Ratio\n",
    "\n",
    "# Vehicle Properties\n",
    "dry_mass = 1.89                     # kg (rough estimation based on current design)\n",
    "prop_mass = 0.53                    # kg (based on tank capacity and gas)\n",
    "wet_mass = dry_mass + prop_mass     # kg"
   ]
  },
  {
   "cell_type": "markdown",
   "metadata": {},
   "source": [
    "### Approach:\n",
    "> Step 1: Determine Theoretical Maximum Flight Time\n",
    "\n",
    "> Step 2: Determine Critical Properties\n",
    "\n",
    "> Step 3: Determine Velocity at the Throat\n",
    "\n",
    "> Step 4: Determine Cross-Sectional Area at the Exit of the Nozzle\n",
    "\n",
    "> Step 5: Determine Flight Time\n",
    "\n",
    "> Step 6: Optimize Flight Time by varying Nominal Chamber Pressure\n",
    "\n",
    "> Step 7: Determine Cross-Sectional Area at Exit and Throat"
   ]
  },
  {
   "cell_type": "markdown",
   "metadata": {},
   "source": [
    "#### Step 1: Determine Theoretical Maximum Flight Time\n",
    "\n",
    "This will be driven by our initial assumptions and vehicle model. With these parameters we can determine the theoretical maximum flight time using the rocket equation to solve for delta_V, and dividing that by the gravity vector to obtain flight time:\n",
    "\n",
    "\\begin{equation}\n",
    "V_\\Delta = V_e * ln\\left(\\frac{m_o}{m_f} \\right) \\tag{1} \n",
    "\\end{equation}\n",
    "\n",
    "Where V_e_expected = ~1000m/s   (Based on Figure 2-5 of \"Rocket Propulsion Elements\")"
   ]
  },
  {
   "cell_type": "code",
   "execution_count": 50,
   "metadata": {
    "collapsed": false
   },
   "outputs": [
    {
     "name": "stdout",
     "output_type": "stream",
     "text": [
      "Delta V: 247.19 m/s\n"
     ]
    }
   ],
   "source": [
    "v_e_expected = 1000   # m/s (APPROXIMATION)\n",
    "\n",
    "delta_v = v_e_expected * np.log(wet_mass/dry_mass)\n",
    "\n",
    "print (\"Delta V: %0.2f m/s\" % delta_v)"
   ]
  },
  {
   "cell_type": "markdown",
   "metadata": {},
   "source": [
    "Divide by the gravity vector to obtain flight time:"
   ]
  },
  {
   "cell_type": "code",
   "execution_count": 51,
   "metadata": {
    "collapsed": false
   },
   "outputs": [
    {
     "name": "stdout",
     "output_type": "stream",
     "text": [
      "Theoretical Flight Time: 25.20 sec\n"
     ]
    }
   ],
   "source": [
    "t_theoretical = delta_v / g\n",
    "\n",
    "print (\"Theoretical Flight Time: %0.2f sec\" % t_theoretical)"
   ]
  },
  {
   "cell_type": "markdown",
   "metadata": {},
   "source": [
    "\n",
    "#### Step 2: Determine Critical Properties\n",
    "In order to solve for the critical properties, we must first make note of the following key concepts regarding nozzles and choked flow:\n",
    "> * The critical properties and critical ratios (Eqs 4, 5, and 6) are a direct function of the propellant properties and the pressure differential of the chamber and exit.\n",
    "\n",
    "> * A converging section of the nozzle is required to bring subsonic flow to sonic flow.\n",
    "\n",
    "> * A diverging section of the nozzle, following the throat (minimum area), is required to bring the sonic flow to supersonic flow.\n",
    "\n",
    "<img src=\"subsonic_flow.png\">\n",
    "<img src=\"supersonic_flow.png\">\n",
    "\n",
    "> * Choked flow occurs when the chamber properties (P_o & T_o) are greater than or equal to the product of the exhaust properties (P_b & T_b) and the critical ratios.\n",
    "\n",
    "> * At choked flow, mass flow rate is <b>constant</b>."
   ]
  },
  {
   "cell_type": "markdown",
   "metadata": {},
   "source": [
    "To better understand why we must have a converging diverging nozzle, we plot the following area ratio equation (Eq 3), which is derived from Equations 2, 5, 6, and 10. \n",
    "\n",
    "\\begin{equation}\n",
    "\\rho A V = constant = \\rho^* A^* V^* \\tag{2}\n",
    "\\end{equation}"
   ]
  },
  {
   "cell_type": "markdown",
   "metadata": {},
   "source": [
    "\\begin{equation}\n",
    "\\frac{A}{A_*} = \\frac{1}{Ma}\\left[ \\frac{1+\\frac{\\gamma-1}{2}Ma^2}{1+\\frac{\\gamma-1}{2}} \\right]^\\frac{\\gamma+1}{2(\\gamma-1)} \\tag{3} \n",
    "\\end{equation}"
   ]
  },
  {
   "cell_type": "code",
   "execution_count": 52,
   "metadata": {
    "collapsed": false
   },
   "outputs": [
    {
     "data": {
      "image/png": "[encoded data removed]",
      "text/plain": [
       "<matplotlib.figure.Figure at 0x109619f28>"
      ]
     },
     "metadata": {},
     "output_type": "display_data"
    }
   ],
   "source": [
    "def area_ratio(Ma):\n",
    "    \n",
    "    A_ratio = (1/Ma)*(((1+((gamma-1)/2)*(Ma**2))/(1+((gamma-1)/2)))**((gamma+1)/(2*(gamma-1))))\n",
    "    \n",
    "    return A_ratio\n",
    "\n",
    "ma_array = np.arange(0.1, 4, 0.01)\n",
    "A_array = area_ratio(ma_array)\n",
    "\n",
    "plt.figure(1)\n",
    "plt.xlabel('Mach Number')\n",
    "plt.ylabel('A/A*')\n",
    "plt.title('Area Ratio vs Mach Number')\n",
    "plt.plot(ma_array, A_array)\n",
    "plt.show()"
   ]
  },
  {
   "cell_type": "markdown",
   "metadata": {},
   "source": [
    "Notice how the area ratio decreases as Mach number increases. The area ratio reaches a minimum when Ma=1, where by after, the area ratio begins to increase."
   ]
  },
  {
   "cell_type": "markdown",
   "metadata": {},
   "source": [
    "To calculate the critical ratios:\n",
    "\n",
    "\\begin{equation}\n",
    "\\frac{P_o}{P} = \\left[1+\\left(\\frac{\\gamma-1}{2}\\right)Ma^2\\right]^\\frac{\\gamma}{\\gamma-1} \\tag{4} \n",
    "\\end{equation}\n",
    "\n",
    "\\begin{equation}\n",
    "\\frac{T_o}{T} = 1+\\left(\\frac{\\gamma-1}{2}\\right)Ma^2 \\tag{5} \n",
    "\\end{equation}\n",
    "\n",
    "\\begin{equation}\n",
    "\\frac{\\rho_o}{\\rho} = \\left[1+\\left(\\frac{\\gamma-1}{2}\\right)Ma^2\\right]^\\frac{1}{\\gamma-1} \\tag{6} \n",
    "\\end{equation}\n",
    "\n",
    "\\begin{equation}\n",
    "M_a = \\sqrt{\\frac{2}{\\gamma-1}\\left(\\left(\\frac{P_o}{P}\\right)^{\\frac{\\gamma-1}{\\gamma}} - 1\\right)} \\tag{7} \n",
    "\\end{equation}\n",
    "\n",
    "To calculate the critical properties:\n",
    "\n",
    "\\begin{equation}\n",
    "\\frac{P_o}{P_*} = \\left[1+\\left(\\frac{\\gamma-1}{2}\\right)\\right]^\\frac{\\gamma}{\\gamma-1}\n",
    "\\end{equation}\n",
    "\n",
    "\\begin{equation}\n",
    "\\frac{T_o}{T_*} = 1+\\left(\\frac{\\gamma-1}{2}\\right)\n",
    "\\end{equation}\n",
    "\n",
    "\\begin{equation}\n",
    "\\frac{\\rho_o}{\\rho_*} = \\left[1+\\left(\\frac{\\gamma-1}{2}\\right)\\right]^\\frac{1}{\\gamma-1}\n",
    "\\end{equation}\n",
    "\n",
    "Since our back pressure is fixed to 101.325kPa (1atm), we need to work back what the minimum required chamber pressure is in order to achieve choked flow:\n",
    "\n",
    "\\begin{equation}\n",
    "\\frac{P_o}{P_b} = \\left[1+\\left(\\frac{\\gamma-1}{2}\\right)\\right]^\\frac{\\gamma}{\\gamma-1}\n",
    "\\end{equation}\n",
    "\n",
    "\\begin{equation}\n",
    "\\frac{T_o}{T_b} = 1+\\left(\\frac{\\gamma-1}{2}\\right)\n",
    "\\end{equation}\n",
    "\n",
    "\\begin{equation}\n",
    "\\frac{\\rho_o}{\\rho_b} = \\left[1+\\left(\\frac{\\gamma-1}{2}\\right)\\right]^\\frac{1}{\\gamma-1}\n",
    "\\end{equation}"
   ]
  },
  {
   "cell_type": "code",
   "execution_count": 53,
   "metadata": {
    "collapsed": false,
    "scrolled": false
   },
   "outputs": [
    {
     "name": "stdout",
     "output_type": "stream",
     "text": [
      "Choked Flow:\n",
      "Ma_t: 1.00\n",
      "Given Exit/Throat Pressure: 101325.00 Pa\n",
      "Calculated Chamber Pressure (Critical Pressure): 191784.01 Pa\n",
      "Given Chamber Temperature: 298.15 K\n",
      "Calculated Exit/Throat Temperature: 248.49 K\n"
     ]
    }
   ],
   "source": [
    "# Calculate Minimum Chamber Properties\n",
    "\n",
    "Ma_t = 1.0     # Minimum mach number required to achieve choked flow is 1\n",
    "P_b = P_atm\n",
    "\n",
    "P_o = P_b*(((1+((gamma-1)/2)*(Ma_t**2))**(gamma/(gamma-1))))\n",
    "T_b = T_o/(1+(((gamma-1)/2)*(Ma_t)))\n",
    "\n",
    "P_o_critical = P_o\n",
    "\n",
    "print (\"Choked Flow:\")\n",
    "print (\"Ma_t: %.2f\" % Ma_t)\n",
    "print (\"Given Exit/Throat Pressure: %.2f Pa\" % P_b)\n",
    "print (\"Calculated Chamber Pressure (Critical Pressure): %.2f Pa\" % P_o)\n",
    "print (\"Given Chamber Temperature: %.2f K\" % T_o)\n",
    "print (\"Calculated Exit/Throat Temperature: %.2f K\" % T_b)"
   ]
  },
  {
   "cell_type": "markdown",
   "metadata": {},
   "source": [
    "Recall, a converging nozzle can only ever achieve an exhaust velocity of Ma=1. In order to accelerate the exhaust velocity to supersonic speeds we must add a diverging section after the throat. \n",
    "\n",
    "For now, we will solve for Ma=1 at the exit, and later increase it during our optimization step."
   ]
  },
  {
   "cell_type": "markdown",
   "metadata": {},
   "source": [
    "#### Step 3: Determine Velocity at the Throat\n",
    "\n",
    "Now that we know the the minimum chamber pressure and temperature, we can calculate the expected minimum exit velocity at the throat (V_th) using the following equation:\n",
    "\n",
    "Where c is the sound velocity:\n",
    "\n",
    "\\begin{equation}\n",
    "c = \\sqrt{\\frac{\\gamma R T}{m_{molar}}} \\tag{8} \n",
    "\\end{equation}\n",
    "\n",
    "\\begin{equation}\n",
    "M_a = \\sqrt{\\frac{2}{\\gamma-1}\\left( \\left(\\frac{P_o}{P_b}\\right)^{\\frac{\\gamma-1}{\\gamma}} - 1 \\right)} \\tag{9} \n",
    "\\end{equation}\n",
    "\n",
    "\\begin{equation}\n",
    "V = M_ac \\tag{10} \n",
    "\\end{equation}\n",
    "\n",
    "Combined:\n",
    "\n",
    "\\begin{equation}\n",
    "V = \\sqrt{\\frac{T_b R}{m_{molar}}*\\frac{2 \\gamma}{\\gamma-1}*\\left(\\left(\\frac{P_o}{P_b}\\right)^{\\frac{\\gamma-1}{\\gamma}}-1\\right)} \\tag{11} \n",
    "\\end{equation}"
   ]
  },
  {
   "cell_type": "code",
   "execution_count": 54,
   "metadata": {
    "collapsed": false
   },
   "outputs": [
    {
     "name": "stdout",
     "output_type": "stream",
     "text": [
      "Velocity at throat: 774.11 m/s\n",
      "Specific Impulse (throat only): 78.910697 sec\n"
     ]
    }
   ],
   "source": [
    "V_th = np.sqrt(((T_b * R) / molar_mass) \\\n",
    "      * ((2 * gamma) / (gamma - 1)) \\\n",
    "      * ((P_o / P_b) ** (\n",
    "        (gamma - 1) / gamma)) -1 )\n",
    "\n",
    "Isp = V_th / g\n",
    "\n",
    "print (\"Velocity at throat: %.2f m/s\" % V_th)\n",
    "print (\"Specific Impulse (throat only): %2f sec\" % Isp)"
   ]
  },
  {
   "cell_type": "markdown",
   "metadata": {},
   "source": [
    "#### Step 4: Determine Cross-Sectional Area at the Exit of the Nozzle\n",
    "\n",
    "Next we must solve for the cross-sectional area at the exit of the nozzle in order to determine the cross-sectional area at throat. However, in order to do this, we much select our desired nominal thrust then solve for the mass flow rate using the following equation:\n",
    "\n",
    "\\begin{equation} \n",
    "F = \\dot{m}*V_e + A_e(P_e - P_{atm})\n",
    "\\end{equation} \n",
    "\n",
    "\\begin{equation}\n",
    "F = \\dot{m}*V_{th}\n",
    "\\end{equation}\n",
    "\n",
    "Rewritten as:\n",
    "\n",
    "\\begin{equation}\n",
    "\\dot{m} = \\frac{F}{V_{th}} \\tag{12} \n",
    "\\end{equation}\n",
    "\n",
    "In order to determine the desired nominal thrust, we must calcuate the force necessary to null out the acceleration of a fully loaded rocket:\n",
    "\n",
    "\\begin{equation}\n",
    "F_{nominal} = m_{wet} * g \\tag{13} \n",
    "\\end{equation}\n",
    "\n",
    "Of course, this force will change as the vehicle loses mass, but it gives us a place to start."
   ]
  },
  {
   "cell_type": "code",
   "execution_count": 55,
   "metadata": {
    "collapsed": false
   },
   "outputs": [
    {
     "name": "stdout",
     "output_type": "stream",
     "text": [
      "Nominal Engine Thrust: 23.74 N\n"
     ]
    }
   ],
   "source": [
    "F_nom = wet_mass * g\n",
    "\n",
    "print (\"Nominal Engine Thrust: %.2f N\" % F_nom)"
   ]
  },
  {
   "cell_type": "markdown",
   "metadata": {},
   "source": [
    "With our nominal thrust, we can now work out the mass flow rate:"
   ]
  },
  {
   "cell_type": "code",
   "execution_count": 56,
   "metadata": {
    "collapsed": false
   },
   "outputs": [
    {
     "name": "stdout",
     "output_type": "stream",
     "text": [
      "Mass Flow Rate: 0.030668 kg/s\n"
     ]
    }
   ],
   "source": [
    "mass_flow = F_nom / V_th         # kg/s\n",
    "\n",
    "print (\"Mass Flow Rate: %.6f kg/s\" % mass_flow)"
   ]
  },
  {
   "cell_type": "markdown",
   "metadata": {},
   "source": [
    "Using the mass flow rate, we can now determine the cross-sectional area at the exit using the following equation:\n",
    "\n",
    "\\begin{equation}\n",
    "A_e = \\frac{\\dot{m}* \\frac{R T_e}{m_{molar}} }{V_e P_e} \\tag{14} \n",
    "\\end{equation}"
   ]
  },
  {
   "cell_type": "markdown",
   "metadata": {},
   "source": [
    "To solve for A_e we must substitute P_e (Eq 4), T_e (Eq 6), and V_e (Eq 11):"
   ]
  },
  {
   "cell_type": "markdown",
   "metadata": {},
   "source": [
    "\\begin{equation}\n",
    "A_e = \\frac{\\dot{m}* \\left(1+(\\gamma-1)\\frac{Ma_e^2}{2}\\right)^\\frac{\\gamma+1}{2(\\gamma-1)}}{Ma_e P_o\\sqrt{\\frac{\\gamma * m_{molar}}{R T_o}}}\n",
    "\\end{equation}"
   ]
  },
  {
   "cell_type": "markdown",
   "metadata": {},
   "source": [
    "Since we are solving for the area at the exit of the nozzle, we assume only a converging nozzle and an exit mach number of 1: \\begin{equation} M_a = 1 \\end{equation}"
   ]
  },
  {
   "cell_type": "code",
   "execution_count": 57,
   "metadata": {
    "collapsed": false,
    "scrolled": true
   },
   "outputs": [
    {
     "name": "stdout",
     "output_type": "stream",
     "text": [
      "Cross-sectional Area at Exit: 0.00006832 m^2\n",
      "Cross-sectional Area at Exit: 68.32 mm^2\n",
      "Exit Diameter: 9.33 mm\n"
     ]
    }
   ],
   "source": [
    "P_e = P_b\n",
    "T_e = T_b\n",
    "\n",
    "A_e = (mass_flow*(1+(gamma-1)*((Ma_t**2)/2))**((gamma+1)/(2*(gamma-1))))/(Ma_t*P_o*np.sqrt((molar_mass*gamma)/(R*T_o)))\n",
    "\n",
    "print (\"Cross-sectional Area at Exit: %.8f m^2\" % A_e)\n",
    "print (\"Cross-sectional Area at Exit: %.2f mm^2\" % (A_e*1e6))\n",
    "\n",
    "print (\"Exit Diameter: %.2f mm\" % (2*(np.sqrt((A_e*1e6)/np.pi))) )"
   ]
  },
  {
   "cell_type": "markdown",
   "metadata": {},
   "source": [
    "Note: This cross-sectional area will change when we increase the exit velocity."
   ]
  },
  {
   "cell_type": "markdown",
   "metadata": {},
   "source": [
    "#### Step 5: Determine Flight Time\n",
    "\n",
    "We can now estimate the time of flight by dividing the total propellant mass by mass flow rate:\n",
    "\n",
    "\\begin{equation}\n",
    "t_{flight} = \\frac{m_{prop}}{\\dot{m}} \\tag{15} \n",
    "\\end{equation}\n",
    "\n",
    "It's important to note that this is an approximation and that this model does not compensate for thrust adjustment.. so yes, the vehicle will begin to accelerate as it loses mass. In order to get more accurate ToF approximations, we will solve for a new desired thrust and adjust it in our flight sim using numerical approximation."
   ]
  },
  {
   "cell_type": "code",
   "execution_count": 58,
   "metadata": {
    "collapsed": false
   },
   "outputs": [
    {
     "name": "stdout",
     "output_type": "stream",
     "text": [
      "Time of Flight: 17.28 sec\n"
     ]
    }
   ],
   "source": [
    "t_flight = prop_mass / mass_flow    # sec\n",
    "\n",
    "print (\"Time of Flight: %0.2f sec\" % t_flight)"
   ]
  },
  {
   "cell_type": "markdown",
   "metadata": {},
   "source": [
    "#### Step 6: Optimize Flight Time by varying Nominal Chamber Pressure\n",
    "\n",
    "Now that we know the minimum pressure required for choked flow, and the required cross-sectional area and exit velocity to null out the vehicles gravity vector, we can now sweep the chamber pressure to find optimimal parameters for maximizing flight time.\n",
    "\n",
    "<b> IMPORTANT: From this point forward, we are going to exceed mach numbers of 1. Meaning, our nozzle now must have a converging and diverging section.</b>\n",
    "<br><br>\n",
    "Flight time optimization goals:\n",
    "1. Increase P_o to increase time of flight\n",
    "3. Optimization shall our assumptions and vehicle model\n",
    "<br><br>"
   ]
  },
  {
   "cell_type": "code",
   "execution_count": 59,
   "metadata": {
    "collapsed": false,
    "scrolled": false
   },
   "outputs": [
    {
     "data": {
      "image/png": "[encoded data removed]",
      "text/plain": [
       "<matplotlib.figure.Figure at 0x10976f470>"
      ]
     },
     "metadata": {},
     "output_type": "display_data"
    },
    {
     "data": {
      "image/png": "[encoded data removed]",
      "text/plain": [
       "<matplotlib.figure.Figure at 0x108b88a90>"
      ]
     },
     "metadata": {},
     "output_type": "display_data"
    },
    {
     "data": {
      "image/png": "[encoded data removed]",
      "text/plain": [
       "<matplotlib.figure.Figure at 0x1091296d8>"
      ]
     },
     "metadata": {},
     "output_type": "display_data"
    }
   ],
   "source": [
    "# Time of Flight vs Chamber Pressure\n",
    "\n",
    "def calc_engine_params(P_o):    \n",
    "    Ma_e = np.sqrt((2 / (gamma - 1)) \\\n",
    "      * (((P_o / P_b) ** (           \\\n",
    "        (gamma - 1) / gamma))-1))  \n",
    "    \n",
    "    T_b = T_o/(1+(((gamma-1)/2)*(Ma_e)))\n",
    "\n",
    "    V_e = np.sqrt(((T_b * R) / molar_mass) \\\n",
    "      * ((2 * gamma) / (gamma - 1)) \\\n",
    "      * ((P_o / P_b) ** (       \\\n",
    "        (gamma - 1) / gamma))-1)\n",
    "\n",
    "    Isp = V_e / g\n",
    "    \n",
    "    F_nom = wet_mass * g    \n",
    "    \n",
    "    mass_flow = F_nom / V_e             # kg/s    \n",
    "    \n",
    "    A_e = (mass_flow*(1+(gamma-1)*((Ma_e**2)/2))**((gamma+1)/(2*(gamma-1))))/(Ma_e*P_o*np.sqrt((molar_mass*gamma)/(R*T_o)))\n",
    "    \n",
    "    t_flight = prop_mass / mass_flow    # sec\n",
    "    \n",
    "    return t_flight, A_e, Ma_e\n",
    "\n",
    "# p_o_min calculated above\n",
    "p_step = 10000\n",
    "p_o_min = P_o_critical  # Minimum pressure for choked flow state\n",
    "p_reg_max = 2.068e6     # Maximum pressure from the regulator\n",
    "\n",
    "# Sweep the pressure and plot the time of flight\n",
    "p_array = np.arange(int(p_o_min), int(p_reg_max), p_step)\n",
    "ToF_array, Ae_array, Mae_array = calc_engine_params(p_array)\n",
    "Ae_array *= 1e6     # Convert from m^2 to mm^2\n",
    "\n",
    "plt.figure(1)\n",
    "plt.xlabel('Pressure (Pa)')\n",
    "plt.ylabel('Time of Flight (sec)')\n",
    "plt.title('ToF vs Pressure')\n",
    "plt.plot(p_array, ToF_array)\n",
    "\n",
    "plt.figure(2)\n",
    "plt.xlabel('Pressure (Pa)')\n",
    "plt.ylabel('Area at Exit (mm^2)')\n",
    "plt.title('A_e vs Pressure')\n",
    "plt.plot(p_array, Ae_array)\n",
    "plt.show()\n",
    "\n",
    "plt.figure(2)\n",
    "plt.xlabel('Pressure (Pa)')\n",
    "plt.ylabel('Mach Number')\n",
    "plt.title('Mach vs Pressure')\n",
    "plt.plot(p_array, Mae_array)\n",
    "plt.show()"
   ]
  },
  {
   "cell_type": "markdown",
   "metadata": {},
   "source": [
    "\n",
    "<b>Analysis:</b>\n",
    "> - As pressure increases, time of flight increases\n",
    "> - At lower pressures, we observe larger variations in time of flight\n",
    "> - At higher pressures, time of flight variations much smaller\n",
    "> - From min to max chamber pressure, time of flight varies by 4 seconds\n",
    "\n",
    "> <br>\n",
    "\n",
    ">As expected, we asymptote near a theoretical ToF limit near 25 seconds.\n",
    "\n",
    ">Why is this not value not 25 seconds? <br>\n",
    "Because we initially guessed a V_e limit of 1000 m/s based on a reference table, these results more accurately reflect the expected time of flight based on our vehicle model. However, our results are in family with the reference materal, so we can feel a little more confident about them.\n",
    "\n",
    "> <br>\n",
    "\n",
    "> What we know about higher pressures:\n",
    "> - Higher pressures require fabrication of nozzles with much smaller cross-sectional areas\n",
    "> - Higher pressures require heavier plumbing\n",
    "> - Controlling higher pressures requires greater power (this become more problematic as actuator bandwidth increases)\n"
   ]
  },
  {
   "cell_type": "markdown",
   "metadata": {},
   "source": [
    "Selecting a pressure:\n",
    "> - The pressure we select must be greater than the minimum chamber pressure required to achieve choked flow and below the regulator's maximum pressure\n",
    "> - We don't want to select a pressure too close to the minimum since we may break choked flow during throttle down when landing (the idea is to have plenty of pressure margin)\n",
    "> - Ideally, the pressure we select would be easy and cost-effictive to sense. Generally speaking, sensor mass, size, and cost increase with pressure\n",
    "> - Select a pressure that doesn't require machining very small cross-sectional areas\n",
    "\n",
    "<b>Selected nominal pressure: 500,000pa (~71psi)</b>\n",
    "\n",
    "Let's now calculate the engine parameters:"
   ]
  },
  {
   "cell_type": "code",
   "execution_count": 60,
   "metadata": {
    "collapsed": false
   },
   "outputs": [
    {
     "name": "stdout",
     "output_type": "stream",
     "text": [
      "Selected Chamber Pressure: 500000.00 Pa\n",
      "Calculated ToF: 18.75 sec\n",
      "Calculated A_e: 0.00003230 m^2\n",
      "Calculated A_e: 32.30 mm^2\n",
      "Calculated Exit Diameter: 6.41 mm\n"
     ]
    }
   ],
   "source": [
    "P_o = 5e5 # Pa (~71psi)\n",
    "\n",
    "ToF, A_e, Ma_e = calc_engine_params(P_o)\n",
    "\n",
    "print (\"Selected Chamber Pressure: %.2f Pa\" % P_o)\n",
    "print (\"Calculated ToF: %0.2f sec\" % ToF)\n",
    "print (\"Calculated A_e: %0.8f m^2\" % A_e)\n",
    "print (\"Calculated A_e: %.2f mm^2\" % (A_e*1e6))\n",
    "print (\"Calculated Exit Diameter: %.2f mm\" % (2*(np.sqrt((A_e*1e6)/np.pi))) )"
   ]
  },
  {
   "cell_type": "markdown",
   "metadata": {
    "collapsed": true
   },
   "source": [
    "#### Step 7: Determine Cross-Sectional Area at Exit and Throat\n",
    "\n",
    "Up until step 6, we've been assuming only a converging nozzle where the exit of the nozzle is the throat. The next step is to add a diverging section at the end of the throat to maximize V_e. Let's get all De Laval on this! The key to this is to calculate the cross-sectional area at the exit first, then to calculate the cross-sectional area at the throat.\n",
    "\n",
    "\\begin{equation}\n",
    "\\frac{A_e}{A_t} = \\frac{1}{M_e}\\left[ \\left(\\frac{2}{\\gamma+1}\\right)\\left(1 + \\frac{\\gamma-1}{2}M_e^2\\right) \\right]^\\frac{\\gamma+1}{2(\\gamma-1)} \\tag{16} \n",
    "\\end{equation}\n",
    "\n",
    "Since we already know A_e, we can now solve for A_t:\n",
    "\n",
    "\\begin{equation}\n",
    "A_t = A_e M_e\\left[ \\left(\\frac{2}{\\gamma+1}\\right)\\left(1 + \\frac{\\gamma-1}{2}M_e^2\\right) \\right]^\\frac{-\\gamma+1}{2(\\gamma-1)}\n",
    "\\end{equation}"
   ]
  },
  {
   "cell_type": "code",
   "execution_count": 61,
   "metadata": {
    "collapsed": false,
    "scrolled": false
   },
   "outputs": [
    {
     "name": "stdout",
     "output_type": "stream",
     "text": [
      "Exit Mach: 1.70\n",
      "\n",
      "Area at Throat: 0.00002415 m^2\n",
      "Area at Throat: 24.15 mm^2\n",
      "Throat Diameter: 5.54 mm \n",
      "\n",
      "Area at Exit: 0.00003230 m^2\n",
      "Area at Exit: 32.30 mm^2\n",
      "Exit Diameter: 6.41 mm \n",
      "\n",
      "Ae/At Ratio: 1.34\n"
     ]
    }
   ],
   "source": [
    "print (\"Exit Mach: %.2f\\n\" % Ma_e)\n",
    "\n",
    "A_t = (A_e*Ma_e)*(((2/(gamma+1))*(1+((gamma-1)/2)*(Ma_e**2)))**((-(gamma+1))/(2*(gamma-1))))\n",
    "\n",
    "print (\"Area at Throat: %0.8f m^2\" % A_t)\n",
    "print (\"Area at Throat: %.2f mm^2\" % (A_t*1e6))\n",
    "print (\"Throat Diameter: %.2f mm \\n\" % (2*(np.sqrt((A_t*1e6)/np.pi))) )\n",
    "\n",
    "print (\"Area at Exit: %0.8f m^2\" % A_e)\n",
    "print (\"Area at Exit: %.2f mm^2\" % (A_e*1e6))\n",
    "print (\"Exit Diameter: %.2f mm \\n\" % (2*(np.sqrt((A_e*1e6)/np.pi))) )\n",
    "\n",
    "# Ae/At Ratio\n",
    "A_e_A_t = A_e / A_t\n",
    "print (\"Ae/At Ratio: %0.2f\" % A_e_A_t)"
   ]
  },
  {
   "cell_type": "markdown",
   "metadata": {},
   "source": [
    "Finally, we print out all the important vehicle parameters:"
   ]
  },
  {
   "cell_type": "code",
   "execution_count": 63,
   "metadata": {
    "collapsed": false
   },
   "outputs": [
    {
     "name": "stdout",
     "output_type": "stream",
     "text": [
      "Nominal Chamber Pressure: 500000.00 Pa\n",
      "\n",
      "Exit Mach Number: 1.70\n",
      "\n",
      "Time of Flight: 18.75 sec\n",
      "\n",
      "A_e: 32.30 mm^2\n",
      "Exit Diameter: 6.41 mm\n",
      "\n",
      "A_t: 24.15 mm^2\n",
      "Throat Diameter: 5.54 mm \n",
      "\n",
      "Ae/At Ratio: 1.34\n"
     ]
    }
   ],
   "source": [
    "# Print out final parameters\n",
    "print (\"Nominal Chamber Pressure: %.2f Pa\\n\" % P_o)\n",
    "print (\"Exit Mach Number: %.2f\\n\" % Ma_e)\n",
    "print (\"Time of Flight: %0.2f sec\\n\" % ToF)\n",
    "print (\"A_e: %.2f mm^2\" % (A_e*1e6))\n",
    "print (\"Exit Diameter: %.2f mm\\n\" % (2*(np.sqrt((A_e*1e6)/np.pi))) )\n",
    "print (\"A_t: %.2f mm^2\" % (A_t*1e6))\n",
    "print (\"Throat Diameter: %.2f mm \\n\" % (2*(np.sqrt((A_t*1e6)/np.pi))) )\n",
    "print (\"Ae/At Ratio: %0.2f\" % A_e_A_t)"
   ]
  },
  {
   "cell_type": "markdown",
   "metadata": {
    "collapsed": true
   },
   "source": [
    "#### Sources and Citation: \n",
    "\n",
    "Sutton, George P., and Oscar Biblarz. Rocket Propulsion Elements. New York: John Wiley & Sons, 2010. Print.\n",
    "\n",
    "Ãengel, Yunus A., and Michael A. Boles. Thermodynamics: An Engineering Approach. New York: McGraw-Hill Education, 2015. Print."
   ]
  },
  {
   "cell_type": "code",
   "execution_count": null,
   "metadata": {
    "collapsed": true
   },
   "outputs": [],
   "source": []
  }
 ],
 "metadata": {
  "kernelspec": {
   "display_name": "Python 3",
   "language": "python",
   "name": "python3"
  },
  "language_info": {
   "codemirror_mode": {
    "name": "ipython",
    "version": 3
   },
   "file_extension": ".py",
   "mimetype": "text/x-python",
   "name": "python",
   "nbconvert_exporter": "python",
   "pygments_lexer": "ipython3",
   "version": "3.5.0"
  }
 },
 "nbformat": 4,
 "nbformat_minor": 0
}
