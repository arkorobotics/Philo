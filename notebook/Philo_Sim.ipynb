{
 "cells": [
  {
   "cell_type": "markdown",
   "metadata": {},
   "source": [
    "# Philo\n",
    "-------------------------------------------------------------\n",
    "A small-scale cold gas VTVL rocket"
   ]
  },
  {
   "cell_type": "code",
   "execution_count": 110,
   "metadata": {
    "collapsed": true
   },
   "outputs": [],
   "source": [
    "import matplotlib\n",
    "import numpy as np\n",
    "import matplotlib.pyplot as plt"
   ]
  },
  {
   "cell_type": "markdown",
   "metadata": {},
   "source": [
    "The goal of this notebook is to outline the process for determining the optimal parameters for a cold gas VTVL rocket."
   ]
  },
  {
   "cell_type": "markdown",
   "metadata": {},
   "source": [
    "### Assumptions\n",
    "1. Isentropic Process\n",
    "2. Ma = 1 at the throat of the nozzle (proof: [link here])}\n",
    "3. Pb = 101.325kPa (Ambient Pressure)\n",
    "4. Tb = 298.15K (Ambient Temperature)\n",
    "\n",
    "### Initial Vehicle Model\n",
    "1. Engine throat is the exit nozzle\n",
    "2. Propellant: Air, cp = 0.846, cv = 0.657, gamma = 1.28\n",
    "3. Dry mass        = 1.89kg\n",
    "4. Propellant mass = 0.53kg"
   ]
  },
  {
   "cell_type": "code",
   "execution_count": 111,
   "metadata": {
    "collapsed": true
   },
   "outputs": [],
   "source": [
    "# Environment Properties\n",
    "P_b = 101325             # Pa (Ambient Pressure)\n",
    "T_b = 298.15             # K (Ambient Temperature)\n",
    "R = 8.314                # J/(K*mol)\n",
    "g = 9.81                 # m/s^2\n",
    "\n",
    "# Propellant Properties \n",
    "cp = 1.005               # Constant pressure specific heat\n",
    "cv = 0.718               # Constant volume specific heat\n",
    "molar_mass = 0.02897     # kg/mol\n",
    "gamma = cp/cv            # Specific Heat Ratio\n",
    "\n",
    "# Vehicle Properties\n",
    "dry_mass = 1.89                     # kg (rough estimation based on current design)\n",
    "prop_mass = 0.53                    # kg (based on tank capacity and gas)\n",
    "wet_mass = dry_mass + prop_mass     # kg"
   ]
  },
  {
   "cell_type": "markdown",
   "metadata": {},
   "source": [
    "#### Step 0: Determine Theoretical Maximum Flight Time\n",
    "\n",
    "This will be driven by our initial assumptions and initial vehicle model. With these parameters we can determine the theoretical maximum flight time using the rocket equation and by dividing the delta_V by gravity vector:\n",
    "\n",
    "\\begin{equation}\n",
    "V_\\Delta = V_e * ln\\left(\\frac{m_o}{m_f} \\right)\n",
    "\\end{equation}\n",
    "\n",
    "TODO: Provide source for V_e = 1000m/s "
   ]
  },
  {
   "cell_type": "code",
   "execution_count": 112,
   "metadata": {
    "collapsed": false
   },
   "outputs": [
    {
     "name": "stdout",
     "output_type": "stream",
     "text": [
      "Delta V: 247.19 m/s\n"
     ]
    }
   ],
   "source": [
    "v_e_ideal = 1000   # m/s\n",
    "\n",
    "delta_v = v_e_ideal * np.log(wet_mass/dry_mass)\n",
    "\n",
    "print (\"Delta V: %0.2f m/s\" % delta_v)"
   ]
  },
  {
   "cell_type": "markdown",
   "metadata": {},
   "source": [
    "Divide by gravity vector to obtain flight time:"
   ]
  },
  {
   "cell_type": "code",
   "execution_count": 113,
   "metadata": {
    "collapsed": false
   },
   "outputs": [
    {
     "name": "stdout",
     "output_type": "stream",
     "text": [
      "Theoretical Flight Time: 25.20 sec\n"
     ]
    }
   ],
   "source": [
    "t_theoretical = delta_v / g\n",
    "\n",
    "print (\"Theoretical Flight Time: %0.2f sec\" % t_theoretical)"
   ]
  },
  {
   "cell_type": "markdown",
   "metadata": {},
   "source": [
    "\n",
    "#### Step 1: Determine Choked Flow Parameters\n",
    "Determine choked flow parameters:\n",
    "> <b>KEY CONCEPTS: </b>\n",
    "> * At choked flow, mass flow rate is <b>constant</b>\n",
    "> * Since choked flow occurs at the throat of the nozzle, we base our equations relative to this plane. \n",
    "> * Choked flow occurs when the chamber pressure and temperature (stagnation pressure and temperature) reach their critical values.\n",
    "> * To determine these critical values, we must use the critical ratios (a property of the propellant).\n",
    "> * Thus choked flow is achieved when the chamber pressure (P_o) is greater than or equal to the critical pressure (P_*), and the chamber temperature (T_o) is greater than or equal to the critical temperature (T_*) respectively.\n",
    "\n",
    " Find the minimum chamber pressure (P_o) required to achieve choked flow and add margin \n",
    " > Margin is added to compensate for regulator lag and to keep us safely in the choked flow region. If we break out of choked flow, our constant mass flow assumption no longer holds true, making the math much more complicated."
   ]
  },
  {
   "cell_type": "markdown",
   "metadata": {},
   "source": [
    "\\begin{equation}\n",
    "\\frac{P_*}{P_o} = \\frac{2}{\\gamma+1}^\\frac{\\gamma}{\\gamma-1}\n",
    "\\end{equation}\n",
    "\n",
    "\\begin{equation}\n",
    "\\frac{T_*}{T_o} = \\frac{2}{\\gamma+1}\n",
    "\\end{equation}\n",
    "\n",
    "Since we know the flow is choked when the critical pressure (P_*) equals the back pressure (P_b), we can determine the minimum chamber pressure:\n",
    "\n",
    "\\begin{equation}\n",
    "\\frac{P_b}{P_o} = \\frac{2}{\\gamma+1}^\\frac{\\gamma}{\\gamma-1}\n",
    "\\end{equation}\n",
    "\n",
    "\\begin{equation}\n",
    "\\frac{T_b}{T_o} = \\frac{2}{\\gamma+1}\n",
    "\\end{equation}"
   ]
  },
  {
   "cell_type": "code",
   "execution_count": 114,
   "metadata": {
    "collapsed": false,
    "scrolled": true
   },
   "outputs": [
    {
     "name": "stdout",
     "output_type": "stream",
     "text": [
      "Choked Flow:\n",
      "Minimum Chamber Pressure: 191784.01 Pa\n",
      "Minimum Chamber Temperature: 357.74 K\n"
     ]
    }
   ],
   "source": [
    "# Chamber Properties\n",
    "P_o = P_b/((2/(gamma+1))**(gamma/(gamma-1)))\n",
    "T_o = T_b/(2/(gamma+1))\n",
    "\n",
    "print (\"Choked Flow:\")\n",
    "print (\"Minimum Chamber Pressure: %.2f Pa\" % P_o)\n",
    "print (\"Minimum Chamber Temperature: %.2f K\" % T_o)"
   ]
  },
  {
   "cell_type": "markdown",
   "metadata": {},
   "source": [
    "TODO: Ara - reword and clean up below\n",
    "\n",
    "#### Step 2: Determine Exit Velocity at Nozzle\n",
    "\n",
    "Now that we know the the minimum chamber pressure and temperature, we can calculate the expected minimum exit velocity at the nozzle (V_e_min) using the following equation:\n",
    "\n",
    "\\begin{equation}\n",
    "V_e = \\sqrt{\\frac{T_b R}{M}*\\frac{2 \\gamma}{\\gamma-1}*\\left(1-\\left(\\frac{P_b}{P_o}\\right)^{\\frac{\\gamma-1}{\\gamma}}\\right)}\n",
    "\\end{equation}"
   ]
  },
  {
   "cell_type": "code",
   "execution_count": 115,
   "metadata": {
    "collapsed": false
   },
   "outputs": [
    {
     "name": "stdout",
     "output_type": "stream",
     "text": [
      "Minimum Exit Velocity at Nozzle: 315.94 m/s\n",
      "Minimum Specific Impulse: 32.205834 sec\n"
     ]
    }
   ],
   "source": [
    "V_e_min = np.sqrt(((T_b * R) / molar_mass) \\\n",
    "      * ((2 * gamma) / (gamma - 1)) \\\n",
    "      * (1 - (P_b / P_o) ** (\n",
    "        (gamma - 1) / gamma)))\n",
    "\n",
    "Isp_min = V_e_min / g\n",
    "\n",
    "print (\"Minimum Exit Velocity at Nozzle: %.2f m/s\" % V_e_min)\n",
    "print (\"Minimum Specific Impulse: %2f sec\" % Isp_min)"
   ]
  },
  {
   "cell_type": "markdown",
   "metadata": {},
   "source": [
    "#### Step 3: Determine Cross-Sectional Area at the Throat of the Nozzle\n",
    "\n",
    "Next we need to determine the cross-sectional area of the throat. However, before we proceed, we must first select our desired nominal thrust then solve for the mass flow rate using the following equation:\n",
    "\n",
    "\\begin{equation}\n",
    "F = \\dot{m}*V_e\n",
    "\\end{equation}\n",
    "\n",
    "Rewritten as:\n",
    "\n",
    "\\begin{equation}\n",
    "\\dot{m} = \\frac{F}{V_e}\n",
    "\\end{equation}\n",
    "\n",
    "In order to determine the desired nominal thrust, we must calcuate the force necessary to null out the acceleration of a fully loaded rocket:\n",
    "\n",
    "\\begin{equation}\n",
    "F_{nominal} = m_{wet} * g\n",
    "\\end{equation}\n",
    "\n",
    "Of course, this force will change as the rocket loses mass, but it gives us a place to start."
   ]
  },
  {
   "cell_type": "code",
   "execution_count": 116,
   "metadata": {
    "collapsed": false
   },
   "outputs": [
    {
     "name": "stdout",
     "output_type": "stream",
     "text": [
      "Nominal Engine Thrust: 23.74 N\n"
     ]
    }
   ],
   "source": [
    "F_nom = wet_mass * g\n",
    "\n",
    "print (\"Nominal Engine Thrust: %.2f N\" % F_nom)"
   ]
  },
  {
   "cell_type": "markdown",
   "metadata": {},
   "source": [
    "With a nominal thrust, we can now work out a rough cross-sectional area at the throat."
   ]
  },
  {
   "cell_type": "code",
   "execution_count": 117,
   "metadata": {
    "collapsed": false
   },
   "outputs": [
    {
     "name": "stdout",
     "output_type": "stream",
     "text": [
      "Mass Flow Rate: 0.075142 kg/s\n"
     ]
    }
   ],
   "source": [
    "mass_flow = F_nom / V_e_min         # kg/s\n",
    "\n",
    "print (\"Mass Flow Rate: %.6f kg/s\" % mass_flow)"
   ]
  },
  {
   "cell_type": "markdown",
   "metadata": {},
   "source": [
    "With a known mass flow rate, we can now determine the cross-sectional area at the throat using the following equation:\n",
    "    \n",
    "\\begin{equation}\n",
    "A = \\frac{\\dot{m}* \\left(1+(\\gamma-1)\\frac{M_a^2}{2}\\right)^\\frac{\\gamma+1}{2(\\gamma-1)}}{M_a P_o\\sqrt{\\frac{\\gamma}{R T_o}}}\n",
    "\\end{equation}"
   ]
  },
  {
   "cell_type": "markdown",
   "metadata": {},
   "source": [
    "Since we are solving for the area at the throat of the nozzle: \\begin{equation} M_a = 1 \\end{equation}"
   ]
  },
  {
   "cell_type": "code",
   "execution_count": 118,
   "metadata": {
    "collapsed": false
   },
   "outputs": [
    {
     "name": "stdout",
     "output_type": "stream",
     "text": [
      "Cross-sectional Area at Throat: 0.00003121 m^2\n",
      "Cross-sectional Area at Throat: 31.21 mm^2\n",
      "Throat Diameter: 6.30 mm\n"
     ]
    }
   ],
   "source": [
    "Ma = 1                             # Mach Number\n",
    "A_t = (mass_flow*(1+(gamma-1)*((Ma**2)/2))**((gamma+1)/(2*(gamma-1))))/(Ma*P_o*np.sqrt(gamma/(R*T_o)))\n",
    "\n",
    "print (\"Cross-sectional Area at Throat: %.8f m^2\" % A_t)\n",
    "print (\"Cross-sectional Area at Throat: %.2f mm^2\" % (A_t*1e6))\n",
    "\n",
    "print (\"Throat Diameter: %.2f mm\" % (2*(np.sqrt((A_t*1e6)/np.pi))) )"
   ]
  },
  {
   "cell_type": "markdown",
   "metadata": {},
   "source": [
    "#### Step 4: Determine Flight Time\n",
    "\n",
    "We can now obtain a ballpark estimate of flight time by dividing the total propellant mass by mass flow rate\n",
    "\n",
    "\\begin{equation}\n",
    "t_{flight} = \\frac{m_{prop}}{\\dot{m}}\n",
    "\\end{equation}"
   ]
  },
  {
   "cell_type": "code",
   "execution_count": 119,
   "metadata": {
    "collapsed": false
   },
   "outputs": [
    {
     "name": "stdout",
     "output_type": "stream",
     "text": [
      "Time of Flight: 7.05 sec\n"
     ]
    }
   ],
   "source": [
    "t_flight = prop_mass / mass_flow    # sec\n",
    "\n",
    "print (\"Time of Flight: %0.2f sec\" % t_flight)"
   ]
  },
  {
   "cell_type": "markdown",
   "metadata": {},
   "source": [
    "#### Step 5: Optimize for Flight Time\n",
    "\n",
    "Not very impressive, but now we have a starting point and there's plenty of room to optimize...\n",
    "\n",
    "Now that we know the minimum values for achieving choking flow while producing the necessary force to null out vertical acceleration of the vehicle. We can now figure out which knobs to tune to optimize for flight time while checking/validating that we are still at choked flow (i.e. - we need to setup our equations such that mass flow rate reachs a maximum and isn't greater than the theoretical limit [TODO: Ara])\n",
    "<br><br>\n",
    "Flight time optimization goals:\n",
    "1. Increase P_o to increase V_e and decrease mass flow rate and A thus increasing flight time.\n",
    "3. Optimization shall check choke flow model for compliance\n",
    "<br><br>"
   ]
  },
  {
   "cell_type": "markdown",
   "metadata": {
    "collapsed": true
   },
   "source": [
    "#### Step 6: Further Optimize by Adding an Exit Nozzle\n",
    "\n",
    "[TODO: Up until this point we've been assuming the throat is the exit nozzle, next step is to add an optimized exit nozzle to maximize V_e]"
   ]
  },
  {
   "cell_type": "code",
   "execution_count": null,
   "metadata": {
    "collapsed": true
   },
   "outputs": [],
   "source": []
  }
 ],
 "metadata": {
  "kernelspec": {
   "display_name": "Python 3",
   "language": "python",
   "name": "python3"
  },
  "language_info": {
   "codemirror_mode": {
    "name": "ipython",
    "version": 3
   },
   "file_extension": ".py",
   "mimetype": "text/x-python",
   "name": "python",
   "nbconvert_exporter": "python",
   "pygments_lexer": "ipython3",
   "version": "3.5.0"
  }
 },
 "nbformat": 4,
 "nbformat_minor": 0
}
