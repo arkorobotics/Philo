{
 "cells": [
  {
   "cell_type": "markdown",
   "metadata": {},
   "source": [
    "# Philo\n",
    "-------------------------------------------------------------\n",
    "A small-scale cold gas VTVL rocket"
   ]
  },
  {
   "cell_type": "code",
   "execution_count": 62,
   "metadata": {
    "collapsed": true
   },
   "outputs": [],
   "source": [
    "import matplotlib\n",
    "import numpy as np\n",
    "import matplotlib.pyplot as plt"
   ]
  },
  {
   "cell_type": "markdown",
   "metadata": {},
   "source": [
    "\n",
    "The goal of this notebook is to outline the process for determining the optimal engine parameters for a cold gas VTVL rocket engine. Rather than spending time and money iterating through different vehicle designs, we first do some math to find the optimal parameters (ie - chamber pressure and temp, nozzle charactertics, etc) for our vehicle. It's important to keep in mind that the values we generate have to be realistic and reasonable. Once we have ballpark parameters, we can evaluate and tune them to match existing COTS parts, and if necessary, fabricate custom ones."
   ]
  },
  {
   "cell_type": "markdown",
   "metadata": {},
   "source": [
    "### Assumptions\n",
    "1. Isentropic Process\n",
    "2. Choked flow, Ma = 1 at the throat of the nozzle (proof: [link here])}\n",
    "3. Pb = 101.325kPa (Ambient Pressure)\n",
    "4. Tb = 298.15K (Ambient Temperature)\n",
    "\n",
    "### Initial Vehicle Model\n",
    "1. Engine throat is the exit nozzle\n",
    "2. Propellant: Air, cp = 0.846, cv = 0.657, gamma = 1.28\n",
    "3. Dry mass        = 1.89kg\n",
    "4. Propellant mass = 0.53kg"
   ]
  },
  {
   "cell_type": "code",
   "execution_count": 63,
   "metadata": {
    "collapsed": true
   },
   "outputs": [],
   "source": [
    "# Environment Properties\n",
    "P_atm = 101325           # Pa (Ambient Pressure)\n",
    "T_atm = 298.15           # K (Ambient Temperature)\n",
    "T_o = 298.15             # K (Tank Temperature)\n",
    "R = 8.314                # J/(K*mol)\n",
    "g = 9.81                 # m/s^2\n",
    "Ma_t = 1                 # Mach (at throat)\n",
    "\n",
    "# Propellant Properties \n",
    "cp = 1.005               # Constant pressure specific heat\n",
    "cv = 0.718               # Constant volume specific heat\n",
    "molar_mass = 0.02897     # kg/mol\n",
    "gamma = cp/cv            # Specific Heat Ratio\n",
    "\n",
    "# Vehicle Properties\n",
    "dry_mass = 1.89                     # kg (rough estimation based on current design)\n",
    "prop_mass = 0.53                    # kg (based on tank capacity and gas)\n",
    "wet_mass = dry_mass + prop_mass     # kg"
   ]
  },
  {
   "cell_type": "markdown",
   "metadata": {},
   "source": [
    "#### Step 0: Determine Theoretical Maximum Flight Time\n",
    "\n",
    "This will be driven by our initial assumptions and initial vehicle model. With these parameters we can determine the theoretical maximum flight time using the rocket equation and by dividing the delta_V by gravity vector:\n",
    "\n",
    "\\begin{equation}\n",
    "V_\\Delta = V_e * ln\\left(\\frac{m_o}{m_f} \\right)\n",
    "\\end{equation}\n",
    "\n",
    "Where V_e_expected = 1000m/s \n",
    "(Based on Figure 2-5 from RPE - https://www.ewp.rpi.edu/hartford/~ernesto/S2013/EP/MaterialsforStudents/Lee/Sutton-Biblarz-Rocket_Propulsion_Elements.pdf)"
   ]
  },
  {
   "cell_type": "code",
   "execution_count": 64,
   "metadata": {
    "collapsed": false
   },
   "outputs": [
    {
     "name": "stdout",
     "output_type": "stream",
     "text": [
      "Delta V: 271.91 m/s\n"
     ]
    }
   ],
   "source": [
    "v_e_expected = 1100   # m/s (APPROXIMATION)\n",
    "\n",
    "delta_v = v_e_expected * np.log(wet_mass/dry_mass)\n",
    "\n",
    "print (\"Delta V: %0.2f m/s\" % delta_v)"
   ]
  },
  {
   "cell_type": "markdown",
   "metadata": {},
   "source": [
    "Divide by gravity vector to obtain flight time:"
   ]
  },
  {
   "cell_type": "code",
   "execution_count": 65,
   "metadata": {
    "collapsed": false
   },
   "outputs": [
    {
     "name": "stdout",
     "output_type": "stream",
     "text": [
      "Theoretical Flight Time: 27.72 sec\n"
     ]
    }
   ],
   "source": [
    "t_theoretical = delta_v / g\n",
    "\n",
    "print (\"Theoretical Flight Time: %0.2f sec\" % t_theoretical)"
   ]
  },
  {
   "cell_type": "markdown",
   "metadata": {},
   "source": [
    "\n",
    "#### Step 1: Determine Choked Flow Parameters\n",
    "Determine choked flow parameters:\n",
    "> <b>KEY CONCEPTS: </b>\n",
    "> * At choked flow, mass flow rate is <b>constant</b>\n",
    "> * A converging section is required to achieve choked flow\n",
    "> * A diverging section in the nozzle is required for exceeding sonic speeds at the exit of the nozzle \n",
    "> * Since choked flow occurs at the throat of the nozzle, we base our equations relative to this plane. \n",
    "> * Choked flow occurs when the chamber pressure and temperature (stagnation pressure and temperature) reach their critical values.\n",
    "> * To determine these critical values, we must use the critical ratios (a property of the propellant).\n",
    "> * Thus choked flow is achieved when the chamber pressure (P_o) is greater than or equal to the critical pressure (P_*), and the chamber temperature (T_o) is greater than or equal to the critical temperature (T_*) respectively.\n",
    "\n",
    "TODO: ADD diagrams here showing the characteristics of coverging and diverging nozzles and how they interact with flow at subsonic, sonic, and supersonic conditions\n",
    "\n",
    " Find the minimum chamber pressure (P_o) required to achieve choked flow and add margin \n",
    " > Margin is added to compensate for regulator lag and to keep us safely in the choked flow region. If we break out of choked flow, our constant mass flow assumption no longer holds true, making the math much more complicated."
   ]
  },
  {
   "cell_type": "markdown",
   "metadata": {},
   "source": [
    "Plot the Area ratio equation to demonstrate why we need a converging/diverging nozzle."
   ]
  },
  {
   "cell_type": "markdown",
   "metadata": {},
   "source": [
    "\\begin{equation}\n",
    "\\frac{A}{A_*} = \\frac{1}{Ma}\\left[ \\frac{1+\\frac{\\gamma-1}{2}Ma^2}{1+\\frac{\\gamma-1}{2}} \\right]^\\frac{\\gamma+1}{2(\\gamma-1)}\n",
    "\\end{equation}"
   ]
  },
  {
   "cell_type": "code",
   "execution_count": 66,
   "metadata": {
    "collapsed": false
   },
   "outputs": [
    {
     "data": {
      "image/png": "[encoded data removed]",
      "text/plain": [
       "<matplotlib.figure.Figure at 0x10eb0c9b0>"
      ]
     },
     "metadata": {},
     "output_type": "display_data"
    }
   ],
   "source": [
    "def area_ratio(Ma):\n",
    "    \n",
    "    A_ratio = (1/Ma)*(((1+((gamma-1)/2)*(Ma**2))/(1+((gamma-1)/2)))**((gamma+1)/(2*(gamma-1))))\n",
    "    \n",
    "    return A_ratio\n",
    "\n",
    "ma_array = np.arange(0.1, 4, 0.01)\n",
    "A_array = area_ratio(ma_array)\n",
    "\n",
    "plt.figure(1)\n",
    "plt.xlabel('Mach Number')\n",
    "plt.ylabel('A/A*')\n",
    "plt.title('Area Ratio vs Mach Number')\n",
    "plt.plot(ma_array, A_array)\n",
    "plt.show()"
   ]
  },
  {
   "cell_type": "markdown",
   "metadata": {},
   "source": [
    "Notice how the ratio decreases as we increase the Mach number. We reach a minimum at Ma=1 where by after, the area ratio begins to increase."
   ]
  },
  {
   "cell_type": "markdown",
   "metadata": {},
   "source": [
    "\\begin{equation}\n",
    "\\frac{P_o}{P} = \\left[1+\\left(\\frac{\\gamma-1}{2}\\right)Ma^2\\right]^\\frac{\\gamma}{\\gamma-1}\n",
    "\\end{equation}\n",
    "\n",
    "\\begin{equation}\n",
    "\\frac{T_o}{T} = 1+\\left(\\frac{\\gamma-1}{2}\\right)Ma^2\n",
    "\\end{equation}\n",
    "\n",
    "\\begin{equation}\n",
    "\\frac{\\rho_o}{\\rho} = \\left[1+\\left(\\frac{\\gamma-1}{2}\\right)Ma^2\\right]^\\frac{1}{\\gamma-1}\n",
    "\\end{equation}\n",
    "\n",
    "\\begin{equation}\n",
    "M_a = \\sqrt{\\frac{2}{\\gamma-1}\\left(\\left(\\frac{P_o}{P}\\right)^{\\frac{\\gamma-1}{\\gamma}} - 1\\right)}\n",
    "\\end{equation}\n",
    "\n",
    "Calculating at the throat where Ma = 1, we can now find the critical pressure and temperature:\n",
    "\n",
    "\\begin{equation}\n",
    "\\frac{P_o}{P_*} = \\left[1+\\left(\\frac{\\gamma-1}{2}\\right)\\right]^\\frac{\\gamma}{\\gamma-1}\n",
    "\\end{equation}\n",
    "\n",
    "\\begin{equation}\n",
    "\\frac{T_o}{T_*} = 1+\\left(\\frac{\\gamma-1}{2}\\right)\n",
    "\\end{equation}\n",
    "\n",
    "\\begin{equation}\n",
    "\\frac{\\rho_o}{\\rho_*} = \\left[1+\\left(\\frac{\\gamma-1}{2}\\right)\\right]^\\frac{1}{\\gamma-1}\n",
    "\\end{equation}\n",
    "\n",
    "Since we know the flow is choked when the critical pressure (P_*) equals the back pressure (P_b), we can determine the minimum chamber pressure:\n",
    "\n",
    "\\begin{equation}\n",
    "\\frac{P_o}{P_b} = \\left[1+\\left(\\frac{\\gamma-1}{2}\\right)\\right]^\\frac{\\gamma}{\\gamma-1}\n",
    "\\end{equation}\n",
    "\n",
    "\\begin{equation}\n",
    "\\frac{T_o}{T_b} = 1+\\left(\\frac{\\gamma-1}{2}\\right)\n",
    "\\end{equation}\n",
    "\n",
    "\\begin{equation}\n",
    "\\frac{\\rho_o}{\\rho_b} = \\left[1+\\left(\\frac{\\gamma-1}{2}\\right)\\right]^\\frac{1}{\\gamma-1}\n",
    "\\end{equation}"
   ]
  },
  {
   "cell_type": "code",
   "execution_count": 67,
   "metadata": {
    "collapsed": false,
    "scrolled": false
   },
   "outputs": [
    {
     "name": "stdout",
     "output_type": "stream",
     "text": [
      "Choked Flow:\n",
      "Ma_t: 1.00\n",
      "Given Exit/Throat Pressure: 101325.00 Pa\n",
      "Calculated Chamber Pressure: 191784.01 Pa\n",
      "Given Chamber Temperature: 298.15 K\n",
      "Calculated Exit/Throat Temperature: 248.49 K\n",
      "---------------------------------------\n"
     ]
    }
   ],
   "source": [
    "# Chamber Properties\n",
    "\n",
    "# Assuming 'Throat = Exit' (converging nozzle only)\n",
    "\n",
    "Ma_t = 1.0\n",
    "P_b = P_atm\n",
    "\n",
    "P_o = P_b*(((1+((gamma-1)/2)*(Ma_t**2))**(gamma/(gamma-1))))\n",
    "T_b = T_o/(1+(((gamma-1)/2)*(Ma_t)))\n",
    "\n",
    "P_o_min = P_o\n",
    "\n",
    "print (\"Choked Flow:\")\n",
    "print (\"Ma_t: %.2f\" % Ma_t)\n",
    "print (\"Given Exit/Throat Pressure: %.2f Pa\" % P_b)\n",
    "print (\"Calculated Chamber Pressure: %.2f Pa\" % P_o)\n",
    "print (\"Given Chamber Temperature: %.2f K\" % T_o)\n",
    "print (\"Calculated Exit/Throat Temperature: %.2f K\" % T_b)\n",
    "print (\"---------------------------------------\")"
   ]
  },
  {
   "cell_type": "markdown",
   "metadata": {},
   "source": [
    "Recall, a converging nozzle can only ever achieve an exhaust velocity of Ma=1. So in order to optimize our specific impulse, we must now add a diverging section at the end."
   ]
  },
  {
   "cell_type": "markdown",
   "metadata": {},
   "source": [
    "#### Step 2: Determine Exit Velocity at Throat\n",
    "\n",
    "Now that we know the the minimum chamber pressure and temperature, we can calculate the expected minimum exit velocity at the nozzle (V_e_min) using the following equation:\n",
    "\n",
    "TODO: Write a set of equations (including density) going from chamber to throat, then later, throat to exit to show increase in v_e/efficiency \n",
    "\n",
    "\\begin{equation}\n",
    "c = \\sqrt{\\frac{\\gamma R T}{m_{molar}}}\n",
    "\\end{equation}\n",
    "\n",
    "\\begin{equation}\n",
    "M_a = \\sqrt{\\frac{2}{\\gamma-1}\\left( \\left(\\frac{P_o}{P_b}\\right)^{\\frac{\\gamma-1}{\\gamma}} - 1 \\right)}\n",
    "\\end{equation}\n",
    "\n",
    "\\begin{equation}\n",
    "V = M_ac\n",
    "\\end{equation}\n",
    "\n",
    "Combined:\n",
    "\n",
    "\\begin{equation}\n",
    "V = \\sqrt{\\frac{T_b R}{m_{molar}}*\\frac{2 \\gamma}{\\gamma-1}*\\left(\\left(\\frac{P_o}{P_b}\\right)^{\\frac{\\gamma-1}{\\gamma}}-1\\right)}\n",
    "\\end{equation}"
   ]
  },
  {
   "cell_type": "code",
   "execution_count": 68,
   "metadata": {
    "collapsed": false
   },
   "outputs": [
    {
     "name": "stdout",
     "output_type": "stream",
     "text": [
      "Throat Velocity: 774.11 m/s\n",
      "Specific Impulse (throat only): 78.910697 sec\n"
     ]
    }
   ],
   "source": [
    "V_th = np.sqrt(((T_b * R) / molar_mass) \\\n",
    "      * ((2 * gamma) / (gamma - 1)) \\\n",
    "      * ((P_o / P_b) ** (\n",
    "        (gamma - 1) / gamma)) -1 )\n",
    "\n",
    "Isp = V_th / g\n",
    "\n",
    "print (\"Throat Velocity: %.2f m/s\" % V_th)\n",
    "print (\"Specific Impulse (throat only): %2f sec\" % Isp)"
   ]
  },
  {
   "cell_type": "markdown",
   "metadata": {},
   "source": [
    "#### Step 3: Determine Cross-Sectional Area at the Throat of the Nozzle\n",
    "\n",
    "Next we need to determine the cross-sectional area of the throat. However, before we proceed, we must first select our desired nominal thrust then solve for the mass flow rate using the following equation:\n",
    "\n",
    "\\begin{equation}\n",
    "F = \\dot{m}*V_{th}\n",
    "\\end{equation}\n",
    "\n",
    "Rewritten as:\n",
    "\n",
    "\\begin{equation}\n",
    "\\dot{m} = \\frac{F}{V_{th}}\n",
    "\\end{equation}\n",
    "\n",
    "In order to determine the desired nominal thrust, we must calcuate the force necessary to null out the acceleration of a fully loaded rocket:\n",
    "\n",
    "\\begin{equation}\n",
    "F_{nominal} = m_{wet} * g\n",
    "\\end{equation}\n",
    "\n",
    "Of course, this force will change as the rocket loses mass, but it gives us a place to start."
   ]
  },
  {
   "cell_type": "code",
   "execution_count": 69,
   "metadata": {
    "collapsed": false
   },
   "outputs": [
    {
     "name": "stdout",
     "output_type": "stream",
     "text": [
      "Nominal Engine Thrust: 23.74 N\n"
     ]
    }
   ],
   "source": [
    "F_nom = wet_mass * g\n",
    "\n",
    "print (\"Nominal Engine Thrust: %.2f N\" % F_nom)"
   ]
  },
  {
   "cell_type": "markdown",
   "metadata": {},
   "source": [
    "With a nominal thrust, we can now work out a rough cross-sectional area at the throat."
   ]
  },
  {
   "cell_type": "code",
   "execution_count": 70,
   "metadata": {
    "collapsed": false
   },
   "outputs": [
    {
     "name": "stdout",
     "output_type": "stream",
     "text": [
      "Mass Flow Rate: 0.030668 kg/s\n"
     ]
    }
   ],
   "source": [
    "mass_flow = F_nom / V_th         # kg/s\n",
    "\n",
    "print (\"Mass Flow Rate: %.6f kg/s\" % mass_flow)"
   ]
  },
  {
   "cell_type": "markdown",
   "metadata": {},
   "source": [
    "With a known mass flow rate, we can now determine the cross-sectional area at the throat using the following equation:\n",
    "\n",
    "CHECK THIS EQUATION\n",
    "\n",
    "\\begin{equation}\n",
    "A_e = \\frac{\\dot{m}* \\frac{R T_e}{m_{molar}} }{V_e P_e}\n",
    "\\end{equation}\n",
    "\n",
    "\\begin{equation}\n",
    "A_e = \\frac{\\dot{m}* \\left(1+(\\gamma-1)\\frac{Ma_e^2}{2}\\right)^\\frac{\\gamma+1}{2(\\gamma-1)}}{Ma_e P_e\\sqrt{\\frac{\\gamma * m_{molar}}{R T_e}}}\n",
    "\\end{equation}"
   ]
  },
  {
   "cell_type": "markdown",
   "metadata": {},
   "source": [
    "Since we are solving for the area at the throat of the nozzle: \\begin{equation} M_a = 1 \\end{equation}"
   ]
  },
  {
   "cell_type": "code",
   "execution_count": 71,
   "metadata": {
    "collapsed": false
   },
   "outputs": [
    {
     "name": "stdout",
     "output_type": "stream",
     "text": [
      "Cross-sectional Area at Exit: 0.00006832 m^2\n",
      "Cross-sectional Area at Exit: 68.32 mm^2\n",
      "Exit Diameter: 9.33 mm\n"
     ]
    }
   ],
   "source": [
    "P_e = P_b\n",
    "T_e = T_b\n",
    "\n",
    "A_e = (mass_flow*(1+(gamma-1)*((Ma_t**2)/2))**((gamma+1)/(2*(gamma-1))))/(Ma_t*P_o*np.sqrt((molar_mass*gamma)/(R*T_o)))\n",
    "\n",
    "print (\"Cross-sectional Area at Exit: %.8f m^2\" % A_e)\n",
    "print (\"Cross-sectional Area at Exit: %.2f mm^2\" % (A_e*1e6))\n",
    "\n",
    "print (\"Exit Diameter: %.2f mm\" % (2*(np.sqrt((A_e*1e6)/np.pi))) )"
   ]
  },
  {
   "cell_type": "markdown",
   "metadata": {},
   "source": [
    "#### Step 4: Determine Flight Time\n",
    "\n",
    "We can now obtain a ballpark estimate of flight time by dividing the total propellant mass by mass flow rate\n",
    "\n",
    "\\begin{equation}\n",
    "t_{flight} = \\frac{m_{prop}}{\\dot{m}}\n",
    "\\end{equation}"
   ]
  },
  {
   "cell_type": "code",
   "execution_count": 72,
   "metadata": {
    "collapsed": false
   },
   "outputs": [
    {
     "name": "stdout",
     "output_type": "stream",
     "text": [
      "Time of Flight: 17.28 sec\n"
     ]
    }
   ],
   "source": [
    "t_flight = prop_mass / mass_flow    # sec\n",
    "\n",
    "print (\"Time of Flight: %0.2f sec\" % t_flight)"
   ]
  },
  {
   "cell_type": "markdown",
   "metadata": {},
   "source": [
    "#### Step 5: Optimize for Flight Time\n",
    "\n",
    "Not a very impressive flight time, but now we have a starting point, and there's plenty of room to optimize...\n",
    "\n",
    "Now that we know the minimum values for choked flow while producing the necessary force to null out vertical acceleration of the vehicle, we can figure out which knobs to tune to optimize for flight time while checking/validating that we are still at choked flow. \n",
    "<br><br>\n",
    "Flight time optimization goals:\n",
    "1. Increase P_o to increase V_e and decrease mass flow rate and A thus increasing flight time.\n",
    "3. Optimization shall check choke flow model for compliance\n",
    "<br><br>"
   ]
  },
  {
   "cell_type": "code",
   "execution_count": 82,
   "metadata": {
    "collapsed": false
   },
   "outputs": [
    {
     "data": {
      "image/png": "[encoded data removed]",
      "text/plain": [
       "<matplotlib.figure.Figure at 0x10e7a5828>"
      ]
     },
     "metadata": {},
     "output_type": "display_data"
    },
    {
     "data": {
      "image/png": "[encoded data removed]",
      "text/plain": [
       "<matplotlib.figure.Figure at 0x10e406eb8>"
      ]
     },
     "metadata": {},
     "output_type": "display_data"
    },
    {
     "data": {
      "image/png": "[encoded data removed]",
      "text/plain": [
       "<matplotlib.figure.Figure at 0x10e65c5f8>"
      ]
     },
     "metadata": {},
     "output_type": "display_data"
    }
   ],
   "source": [
    "# Time of Flight vs Chamber Pressure\n",
    "\n",
    "def calc_engine(P_o):    \n",
    "    Ma_e = np.sqrt((2 / (gamma - 1)) \\\n",
    "      * (((P_o / P_b) ** (           \\\n",
    "        (gamma - 1) / gamma))-1))  \n",
    "    \n",
    "    T_b = T_o/(1+(((gamma-1)/2)*(Ma_e)))\n",
    "\n",
    "    V_e = np.sqrt(((T_b * R) / molar_mass) \\\n",
    "      * ((2 * gamma) / (gamma - 1)) \\\n",
    "      * ((P_o / P_b) ** (       \\\n",
    "        (gamma - 1) / gamma))-1)\n",
    "\n",
    "    Isp = V_e / g\n",
    "    \n",
    "    F_nom = wet_mass * g    \n",
    "    \n",
    "    mass_flow = F_nom / V_e             # kg/s    \n",
    "    \n",
    "    A_e = (mass_flow*(1+(gamma-1)*((Ma_e**2)/2))**((gamma+1)/(2*(gamma-1))))/(Ma_e*P_o*np.sqrt((molar_mass*gamma)/(R*T_o)))\n",
    "    \n",
    "    t_flight = prop_mass / mass_flow    # sec\n",
    "    \n",
    "    return t_flight, A_e, Ma_e\n",
    "\n",
    "# p_o_min calculated above\n",
    "p_step = 100000\n",
    "P_tank_max = 3.1026e+7\n",
    "\n",
    "# Sweep the pressure and plot the time of flight\n",
    "p_array = np.arange(int(P_o_min), int(P_tank_max), p_step)\n",
    "ToF_array, Ae_array, Mae_array = calc_engine(p_array)\n",
    "Ae_array *= 1e6     # Convert from m^2 to mm^2\n",
    "\n",
    "plt.figure(1)\n",
    "plt.xlabel('Pressure (Pa)')\n",
    "plt.ylabel('Time of Flight (sec)')\n",
    "plt.title('ToF vs Pressure')\n",
    "plt.plot(p_array, ToF_array)\n",
    "\n",
    "plt.figure(2)\n",
    "plt.xlabel('Pressure (Pa)')\n",
    "plt.ylabel('Area at Exit (mm^2)')\n",
    "plt.title('A_e vs Pressure')\n",
    "plt.plot(p_array, Ae_array)\n",
    "plt.show()\n",
    "\n",
    "plt.figure(2)\n",
    "plt.xlabel('Pressure (Pa)')\n",
    "plt.ylabel('Mach Number')\n",
    "plt.title('Mach vs Pressure')\n",
    "plt.plot(p_array, Mae_array)\n",
    "plt.show()"
   ]
  },
  {
   "cell_type": "markdown",
   "metadata": {},
   "source": [
    "As expected, we asymptote near a theoretical ToF limit near 16-17 seconds\n",
    "\n",
    "Why is this not value not 25 seconds? <br>\n",
    "Because we initially guessed a V_e limit of 1000 m/s based on a reference table, these results more accurately reflect the expected time of flight based on our vehicle model. However, our results are in family with the reference materal, so we can feel a little more confident with them.\n",
    "\n",
    "Here's yet another step where the engineer gets to decide a value.. what nominal chamber pressure shall we go with?\n",
    "\n",
    "First lets analyze what this graph is telling us:\n",
    "> - As pressure increases, time of flight increases\n",
    "> - We observe larger variations in time of flight as a function of error in pressure at lower pressures\n",
    "> - At higher pressures, the gains in time of flight are very small\n",
    "\n",
    "What we know about the real world and our rocket:\n",
    "> - The higher the pressure, the more mass and complexity there is for measuring and controlling it\n",
    "> - Tooling limitations: We can only make the throat of the nozzle so small\n",
    "> - Mass is our enemy: The more mass we can shed, the greater our flight time"
   ]
  },
  {
   "cell_type": "code",
   "execution_count": 80,
   "metadata": {
    "collapsed": false
   },
   "outputs": [
    {
     "name": "stdout",
     "output_type": "stream",
     "text": [
      "Chamber Pressure: 1000000.00 Pa\n",
      "Selected ToF: 20.04 sec\n",
      "Selected A_e: 0.00002165 m^2\n",
      "Selected A_e: 21.65 mm^2\n",
      "Selected Exit Diameter: 5.25 mm\n"
     ]
    }
   ],
   "source": [
    "# Pick P_o, A_t, Time of Flight\n",
    "P_o = 0.1e7 # Pa (~145psi) [TODO: EXPLAIN THIS CHOICE]\n",
    "\n",
    "ToF, A_e = calc_engine(P_o)\n",
    "\n",
    "print (\"Chamber Pressure: %.2f Pa\" % P_o)\n",
    "print (\"Selected ToF: %0.2f sec\" % ToF)\n",
    "print (\"Selected A_e: %0.8f m^2\" % A_e)\n",
    "print (\"Selected A_e: %.2f mm^2\" % (A_e*1e6))\n",
    "print (\"Selected Exit Diameter: %.2f mm\" % (2*(np.sqrt((A_e*1e6)/np.pi))) )"
   ]
  },
  {
   "cell_type": "markdown",
   "metadata": {},
   "source": [
    "Select desired exit velocity: M_e (in mach)"
   ]
  },
  {
   "cell_type": "code",
   "execution_count": 77,
   "metadata": {
    "collapsed": true
   },
   "outputs": [],
   "source": [
    "# Desired Exit Velocity (in Mach)\n",
    "Ma_e = 4 # This isn't right, update"
   ]
  },
  {
   "cell_type": "markdown",
   "metadata": {
    "collapsed": true
   },
   "source": [
    "#### Step 6: Further Optimize by Adding an Exit Nozzle\n",
    "\n",
    "Up until this point we've been assuming that the throat is the exit nozzle. The next step is to add an expansion at the end of the throat to maximize V_e (as per De Laval). The key to this is determining the desired area at the throat (see above) and calculating the area at the exit of the nozzle. Thankfully, this math isn't too bad. The Ae/At ratio is a direct function of the propellant chemical properties:\n",
    "\n",
    "CHECK THESE EQUATIONS\n",
    "\n",
    "\\begin{equation}\n",
    "\\frac{A_e}{A_t} = \\frac{1}{M_e}\\left[ \\left(\\frac{2}{\\gamma+1}\\right)\\left(1 + \\frac{\\gamma-1}{2}M_e^2\\right) \\right]^\\frac{\\gamma+1}{2(\\gamma-1)}\n",
    "\\end{equation}\n",
    "\n",
    "Since we already know A_t, we can now solve for A_e:\n",
    "\n",
    "\\begin{equation}\n",
    "A_t = A_e M_e\\left[ \\left(\\frac{2}{\\gamma+1}\\right)\\left(1 + \\frac{\\gamma-1}{2}M_e^2\\right) \\right]^\\frac{-\\gamma+1}{2(\\gamma-1)}\n",
    "\\end{equation}"
   ]
  },
  {
   "cell_type": "code",
   "execution_count": 78,
   "metadata": {
    "collapsed": false,
    "scrolled": false
   },
   "outputs": [
    {
     "name": "stdout",
     "output_type": "stream",
     "text": [
      "Exit Mach: 4.00\n",
      "\n",
      "Area at Throat: 0.00000202 m^2\n",
      "Area at Throat: 2.02 mm^2\n",
      "Selected Throat Diameter: 1.60 mm \n",
      "\n",
      "Area at Exit: 0.00002165 m^2\n",
      "Area at Exit: 21.65 mm^2\n",
      "Selected Exit Diameter: 5.25 mm \n",
      "\n",
      "Ae/At Ratio: 10.73\n"
     ]
    }
   ],
   "source": [
    "print (\"Exit Mach: %.2f\\n\" % Ma_e)\n",
    "\n",
    "A_t = (A_e*Ma_e)*(((2/(gamma+1))*(1+((gamma-1)/2)*(Ma_e**2)))**((-(gamma+1))/(2*(gamma-1))))\n",
    "\n",
    "print (\"Area at Throat: %0.8f m^2\" % A_t)\n",
    "print (\"Area at Throat: %.2f mm^2\" % (A_t*1e6))\n",
    "print (\"Selected Throat Diameter: %.2f mm \\n\" % (2*(np.sqrt((A_t*1e6)/np.pi))) )\n",
    "\n",
    "print (\"Area at Exit: %0.8f m^2\" % A_e)\n",
    "print (\"Area at Exit: %.2f mm^2\" % (A_e*1e6))\n",
    "print (\"Selected Exit Diameter: %.2f mm \\n\" % (2*(np.sqrt((A_e*1e6)/np.pi))) )\n",
    "\n",
    "# Ae/At Ratio\n",
    "A_e_A_t = A_e / A_t\n",
    "print (\"Ae/At Ratio: %0.2f\" % A_e_A_t)"
   ]
  },
  {
   "cell_type": "markdown",
   "metadata": {
    "collapsed": true
   },
   "source": [
    "TODO: Recalculte ToF based on new V_e<br>\n",
    "TODO: Include \\begin{equation} F = \\dot{m}*V_e + A_e(P_e - P_{atm}) \\end{equation}"
   ]
  },
  {
   "cell_type": "code",
   "execution_count": 43,
   "metadata": {
    "collapsed": true
   },
   "outputs": [],
   "source": [
    "# Equation Pool\n",
    "#V_e = Ma_t*np.sqrt((gamma*R*T_b)/molar_mass)\n",
    "#P_b = P_o/(((1+((gamma-1)/2)*(Ma_t**2))**(gamma/(gamma-1))))\n",
    "#Ma_t = np.sqrt((2 / (gamma - 1)) \\\n",
    "#      * (((P_o / P_b) ** (\n",
    "#        (gamma - 1) / gamma))-1))"
   ]
  },
  {
   "cell_type": "code",
   "execution_count": null,
   "metadata": {
    "collapsed": true
   },
   "outputs": [],
   "source": []
  }
 ],
 "metadata": {
  "kernelspec": {
   "display_name": "Python 3",
   "language": "python",
   "name": "python3"
  }
 },
 "nbformat": 4,
 "nbformat_minor": 0
}
