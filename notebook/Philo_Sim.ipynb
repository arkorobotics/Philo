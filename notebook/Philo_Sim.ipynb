{
 "cells": [
  {
   "cell_type": "markdown",
   "metadata": {},
   "source": [
    "# Philo\n",
    "-------------------------------------------------------------\n",
    "A small-scale cold gas VTVL rocket"
   ]
  },
  {
   "cell_type": "code",
   "execution_count": 15,
   "metadata": {
    "collapsed": true
   },
   "outputs": [],
   "source": [
    "import matplotlib\n",
    "import numpy as np\n",
    "import matplotlib.pyplot as plt"
   ]
  },
  {
   "cell_type": "markdown",
   "metadata": {},
   "source": [
    "\n",
    "The goal of this notebook is to outline the process for determining the optimal parameters for a cold gas VTVL rocket engine. Rather than spending time and money iterating through different vehicle designs, we first do some math to find the optimal parameters (ie - chamber pressure and temp, nozzle charactertics, etc) for our vehicle. It's important to keep in mind that the values we generate have to be realistic and reasonable. Once we have ballpark parameters, we can evaluate and tune them to match existing COTS parts, and if necessary, fabricate custom ones."
   ]
  },
  {
   "cell_type": "markdown",
   "metadata": {},
   "source": [
    "### Assumptions\n",
    "1. Isentropic Process\n",
    "2. Choked flow, Ma = 1 at the throat of the nozzle (proof: [link here])}\n",
    "3. Pb = 101.325kPa (Ambient Pressure)\n",
    "4. Tb = 298.15K (Ambient Temperature)\n",
    "\n",
    "### Initial Vehicle Model\n",
    "1. Engine throat is the exit nozzle\n",
    "2. Propellant: Air, cp = 0.846, cv = 0.657, gamma = 1.28\n",
    "3. Dry mass        = 1.89kg\n",
    "4. Propellant mass = 0.53kg"
   ]
  },
  {
   "cell_type": "code",
   "execution_count": 16,
   "metadata": {
    "collapsed": true
   },
   "outputs": [],
   "source": [
    "# Environment Properties\n",
    "P_atm = 101325           # Pa (Ambient Pressure)\n",
    "T_atm = 298.15           # K (Ambient Temperature)\n",
    "T_o = 298.15             # K (Tank Temperature)\n",
    "R = 8.314                # J/(K*mol)\n",
    "g = 9.81                 # m/s^2\n",
    "Ma_t = 1                 # Mach (at throat)\n",
    "\n",
    "# Propellant Properties \n",
    "cp = 1.005               # Constant pressure specific heat\n",
    "cv = 0.718               # Constant volume specific heat\n",
    "molar_mass = 0.02897     # kg/mol\n",
    "gamma = cp/cv            # Specific Heat Ratio\n",
    "\n",
    "# Vehicle Properties\n",
    "dry_mass = 1.89                     # kg (rough estimation based on current design)\n",
    "prop_mass = 0.53                    # kg (based on tank capacity and gas)\n",
    "wet_mass = dry_mass + prop_mass     # kg"
   ]
  },
  {
   "cell_type": "markdown",
   "metadata": {},
   "source": [
    "#### Step 0: Determine Theoretical Maximum Flight Time\n",
    "\n",
    "This will be driven by our initial assumptions and initial vehicle model. With these parameters we can determine the theoretical maximum flight time using the rocket equation and by dividing the delta_V by gravity vector:\n",
    "\n",
    "\\begin{equation}\n",
    "V_\\Delta = V_e * ln\\left(\\frac{m_o}{m_f} \\right)\n",
    "\\end{equation}\n",
    "\n",
    "Where V_e_expected = 1000m/s \n",
    "(Based on Figure 2-5 from RPE - https://www.ewp.rpi.edu/hartford/~ernesto/S2013/EP/MaterialsforStudents/Lee/Sutton-Biblarz-Rocket_Propulsion_Elements.pdf)"
   ]
  },
  {
   "cell_type": "code",
   "execution_count": 17,
   "metadata": {
    "collapsed": false
   },
   "outputs": [
    {
     "name": "stdout",
     "output_type": "stream",
     "text": [
      "Delta V: 247.19 m/s\n"
     ]
    }
   ],
   "source": [
    "v_e_expected = 1000   # m/s\n",
    "\n",
    "delta_v = v_e_expected * np.log(wet_mass/dry_mass)\n",
    "\n",
    "print (\"Delta V: %0.2f m/s\" % delta_v)"
   ]
  },
  {
   "cell_type": "markdown",
   "metadata": {},
   "source": [
    "Divide by gravity vector to obtain flight time:"
   ]
  },
  {
   "cell_type": "code",
   "execution_count": 18,
   "metadata": {
    "collapsed": false
   },
   "outputs": [
    {
     "name": "stdout",
     "output_type": "stream",
     "text": [
      "Theoretical Flight Time: 25.20 sec\n"
     ]
    }
   ],
   "source": [
    "t_theoretical = delta_v / g\n",
    "\n",
    "print (\"Theoretical Flight Time: %0.2f sec\" % t_theoretical)"
   ]
  },
  {
   "cell_type": "markdown",
   "metadata": {},
   "source": [
    "\n",
    "#### Step 1: Determine Choked Flow Parameters\n",
    "Determine choked flow parameters:\n",
    "> <b>KEY CONCEPTS: </b>\n",
    "> * At choked flow, mass flow rate is <b>constant</b>\n",
    "> * A converging section is required to achieve choked flow\n",
    "> * A diverging section in the nozzle is required for exceeding sonic speeds at the exit of the nozzle \n",
    "> * Since choked flow occurs at the throat of the nozzle, we base our equations relative to this plane. \n",
    "> * Choked flow occurs when the chamber pressure and temperature (stagnation pressure and temperature) reach their critical values.\n",
    "> * To determine these critical values, we must use the critical ratios (a property of the propellant).\n",
    "> * Thus choked flow is achieved when the chamber pressure (P_o) is greater than or equal to the critical pressure (P_*), and the chamber temperature (T_o) is greater than or equal to the critical temperature (T_*) respectively.\n",
    "\n",
    "TODO: ADD diagrams here showing the characteristics of coverging and diverging nozzles and how they interact with flow at subsonic, sonic, and supersonic conditions\n",
    "\n",
    "TODO: Add A/A* plot and link to source/derivation\n",
    "\n",
    " Find the minimum chamber pressure (P_o) required to achieve choked flow and add margin \n",
    " > Margin is added to compensate for regulator lag and to keep us safely in the choked flow region. If we break out of choked flow, our constant mass flow assumption no longer holds true, making the math much more complicated."
   ]
  },
  {
   "cell_type": "markdown",
   "metadata": {},
   "source": [
    "\\begin{equation}\n",
    "\\frac{P_o}{P} = \\left[1+\\left(\\frac{\\gamma-1}{2}\\right)Ma^2\\right]^\\frac{\\gamma}{\\gamma-1}\n",
    "\\end{equation}\n",
    "\n",
    "\\begin{equation}\n",
    "\\frac{T_o}{T} = 1+\\left(\\frac{\\gamma-1}{2}\\right)Ma^2\n",
    "\\end{equation}\n",
    "\n",
    "\\begin{equation}\n",
    "\\frac{\\rho_o}{\\rho} = \\left[1+\\left(\\frac{\\gamma-1}{2}\\right)Ma^2\\right]^\\frac{1}{\\gamma-1}\n",
    "\\end{equation}\n",
    "\n",
    "\\begin{equation}\n",
    "M_a = \\sqrt{\\frac{2}{\\gamma-1}\\left(\\left(\\frac{P_o}{P}\\right)^{\\frac{\\gamma-1}{\\gamma}} - 1\\right)}\n",
    "\\end{equation}\n",
    "\n",
    "Calculating at the throat where Ma = 1, we can now find the critical pressure and temperature:\n",
    "\n",
    "\\begin{equation}\n",
    "\\frac{P_o}{P_*} = \\left[1+\\left(\\frac{\\gamma-1}{2}\\right)\\right]^\\frac{\\gamma}{\\gamma-1}\n",
    "\\end{equation}\n",
    "\n",
    "\\begin{equation}\n",
    "\\frac{T_o}{T_*} = 1+\\left(\\frac{\\gamma-1}{2}\\right)\n",
    "\\end{equation}\n",
    "\n",
    "\\begin{equation}\n",
    "\\frac{\\rho_o}{\\rho_*} = \\left[1+\\left(\\frac{\\gamma-1}{2}\\right)\\right]^\\frac{1}{\\gamma-1}\n",
    "\\end{equation}\n",
    "\n",
    "Since we know the flow is choked when the critical pressure (P_*) equals the back pressure (P_b), we can determine the minimum chamber pressure:\n",
    "\n",
    "\\begin{equation}\n",
    "\\frac{P_o}{P_b} = \\left[1+\\left(\\frac{\\gamma-1}{2}\\right)\\right]^\\frac{\\gamma}{\\gamma-1}\n",
    "\\end{equation}\n",
    "\n",
    "\\begin{equation}\n",
    "\\frac{T_o}{T_b} = 1+\\left(\\frac{\\gamma-1}{2}\\right)\n",
    "\\end{equation}\n",
    "\n",
    "\\begin{equation}\n",
    "\\frac{\\rho_o}{\\rho_b} = \\left[1+\\left(\\frac{\\gamma-1}{2}\\right)\\right]^\\frac{1}{\\gamma-1}\n",
    "\\end{equation}"
   ]
  },
  {
   "cell_type": "code",
   "execution_count": 36,
   "metadata": {
    "collapsed": false,
    "scrolled": false
   },
   "outputs": [
    {
     "name": "stdout",
     "output_type": "stream",
     "text": [
      "Choked Flow:\n",
      "Ma_t: 1.00\n",
      "Given Exit/Throat Pressure: 101325.00 Pa\n",
      "Calculated Chamber Pressure: 191784.01 Pa\n",
      "Given Chamber Temperature: 298.15 K\n",
      "Calculated Exit/Throat Temperature: 248.49 K\n",
      "---------------------------------------\n"
     ]
    }
   ],
   "source": [
    "# Chamber Properties\n",
    "\n",
    "# Assuming 'Throat = Exit' (converging nozzle only)\n",
    "\n",
    "Ma_t = 1.0\n",
    "P_b = P_atm\n",
    "\n",
    "P_o = P_b*(((1+((gamma-1)/2)*(Ma_t**2))**(gamma/(gamma-1))))\n",
    "T_b = T_o/(1+(((gamma-1)/2)*(Ma_t)))\n",
    "\n",
    "P_o_min = P_o\n",
    "\n",
    "print (\"Choked Flow:\")\n",
    "print (\"Ma_t: %.2f\" % Ma_t)\n",
    "print (\"Given Exit/Throat Pressure: %.2f Pa\" % P_b)\n",
    "print (\"Calculated Chamber Pressure: %.2f Pa\" % P_o)\n",
    "print (\"Given Chamber Temperature: %.2f K\" % T_o)\n",
    "print (\"Calculated Exit/Throat Temperature: %.2f K\" % T_b)\n",
    "print (\"---------------------------------------\")"
   ]
  },
  {
   "cell_type": "markdown",
   "metadata": {},
   "source": [
    "Recall, a converging nozzle can only ever achieve an exhaust velocity of Ma=1. So in order to optimize our specific impulse, we must now add a diverging section at the end."
   ]
  },
  {
   "cell_type": "markdown",
   "metadata": {},
   "source": [
    "#### Step 2: Determine Exit Velocity at Throat\n",
    "\n",
    "Now that we know the the minimum chamber pressure and temperature, we can calculate the expected minimum exit velocity at the nozzle (V_e_min) using the following equation:\n",
    "\n",
    "TODO: Write a set of equations (including density) going from chamber to throat, then later, throat to exit to show increase in v_e/efficiency \n",
    "\n",
    "\\begin{equation}\n",
    "c = \\sqrt{\\frac{\\gamma R T}{m_{molar}}}\n",
    "\\end{equation}\n",
    "\n",
    "\\begin{equation}\n",
    "M_a = \\sqrt{\\frac{2}{\\gamma-1}\\left( \\left(\\frac{P_o}{P_b}\\right)^{\\frac{\\gamma-1}{\\gamma}} - 1 \\right)}\n",
    "\\end{equation}\n",
    "\n",
    "\\begin{equation}\n",
    "V = M_ac\n",
    "\\end{equation}\n",
    "\n",
    "Combined:\n",
    "\n",
    "\\begin{equation}\n",
    "V = \\sqrt{\\frac{T_b R}{m_{molar}}*\\frac{2 \\gamma}{\\gamma-1}*\\left(\\left(\\frac{P_o}{P_b}\\right)^{\\frac{\\gamma-1}{\\gamma}}-1\\right)}\n",
    "\\end{equation}"
   ]
  },
  {
   "cell_type": "code",
   "execution_count": 37,
   "metadata": {
    "collapsed": false
   },
   "outputs": [
    {
     "name": "stdout",
     "output_type": "stream",
     "text": [
      "Throat Velocity: 774.11 m/s\n",
      "Specific Impulse (throat only): 78.910697 sec\n"
     ]
    }
   ],
   "source": [
    "V_th = np.sqrt(((T_b * R) / molar_mass) \\\n",
    "      * ((2 * gamma) / (gamma - 1)) \\\n",
    "      * ((P_o / P_b) ** (\n",
    "        (gamma - 1) / gamma)) -1 )\n",
    "\n",
    "Isp = V_th / g\n",
    "\n",
    "print (\"Throat Velocity: %.2f m/s\" % V_th)\n",
    "print (\"Specific Impulse (throat only): %2f sec\" % Isp)"
   ]
  },
  {
   "cell_type": "markdown",
   "metadata": {},
   "source": [
    "#### Step 3: Determine Cross-Sectional Area at the Throat of the Nozzle\n",
    "\n",
    "Next we need to determine the cross-sectional area of the throat. However, before we proceed, we must first select our desired nominal thrust then solve for the mass flow rate using the following equation:\n",
    "\n",
    "\\begin{equation}\n",
    "F = \\dot{m}*V_{th}\n",
    "\\end{equation}\n",
    "\n",
    "Rewritten as:\n",
    "\n",
    "\\begin{equation}\n",
    "\\dot{m} = \\frac{F}{V_{th}}\n",
    "\\end{equation}\n",
    "\n",
    "In order to determine the desired nominal thrust, we must calcuate the force necessary to null out the acceleration of a fully loaded rocket:\n",
    "\n",
    "\\begin{equation}\n",
    "F_{nominal} = m_{wet} * g\n",
    "\\end{equation}\n",
    "\n",
    "Of course, this force will change as the rocket loses mass, but it gives us a place to start."
   ]
  },
  {
   "cell_type": "code",
   "execution_count": 38,
   "metadata": {
    "collapsed": false
   },
   "outputs": [
    {
     "name": "stdout",
     "output_type": "stream",
     "text": [
      "Nominal Engine Thrust: 23.74 N\n"
     ]
    }
   ],
   "source": [
    "F_nom = wet_mass * g\n",
    "\n",
    "print (\"Nominal Engine Thrust: %.2f N\" % F_nom)"
   ]
  },
  {
   "cell_type": "markdown",
   "metadata": {},
   "source": [
    "With a nominal thrust, we can now work out a rough cross-sectional area at the throat."
   ]
  },
  {
   "cell_type": "code",
   "execution_count": 39,
   "metadata": {
    "collapsed": false
   },
   "outputs": [
    {
     "name": "stdout",
     "output_type": "stream",
     "text": [
      "Mass Flow Rate: 0.030668 kg/s\n"
     ]
    }
   ],
   "source": [
    "mass_flow = F_nom / V_th         # kg/s\n",
    "\n",
    "print (\"Mass Flow Rate: %.6f kg/s\" % mass_flow)"
   ]
  },
  {
   "cell_type": "markdown",
   "metadata": {},
   "source": [
    "With a known mass flow rate, we can now determine the cross-sectional area at the throat using the following equation:\n",
    "    \n",
    "\\begin{equation}\n",
    "A = \\frac{\\dot{m}* \\left(1+(\\gamma-1)\\frac{M_a^2}{2}\\right)^\\frac{\\gamma+1}{2(\\gamma-1)}}{M_a P_o\\sqrt{\\frac{\\gamma}{R T_o}}}\n",
    "\\end{equation}"
   ]
  },
  {
   "cell_type": "markdown",
   "metadata": {},
   "source": [
    "Since we are solving for the area at the throat of the nozzle: \\begin{equation} M_a = 1 \\end{equation}"
   ]
  },
  {
   "cell_type": "code",
   "execution_count": 41,
   "metadata": {
    "collapsed": false
   },
   "outputs": [
    {
     "name": "stdout",
     "output_type": "stream",
     "text": [
      "Cross-sectional Area at Throat: 0.00001163 m^2\n",
      "Cross-sectional Area at Throat: 11.63 mm^2\n",
      "Throat Diameter: 3.85 mm\n"
     ]
    }
   ],
   "source": [
    "A_t = (mass_flow*(1+(gamma-1)*((Ma_t**2)/2))**((gamma+1)/(2*(gamma-1))))/(Ma_t*P_o*np.sqrt(gamma/(R*T_o)))\n",
    "\n",
    "print (\"Cross-sectional Area at Throat: %.8f m^2\" % A_t)\n",
    "print (\"Cross-sectional Area at Throat: %.2f mm^2\" % (A_t*1e6))\n",
    "\n",
    "print (\"Throat Diameter: %.2f mm\" % (2*(np.sqrt((A_t*1e6)/np.pi))) )"
   ]
  },
  {
   "cell_type": "markdown",
   "metadata": {},
   "source": [
    "#### Step 4: Determine Flight Time\n",
    "\n",
    "We can now obtain a ballpark estimate of flight time by dividing the total propellant mass by mass flow rate\n",
    "\n",
    "\\begin{equation}\n",
    "t_{flight} = \\frac{m_{prop}}{\\dot{m}}\n",
    "\\end{equation}"
   ]
  },
  {
   "cell_type": "code",
   "execution_count": 42,
   "metadata": {
    "collapsed": false
   },
   "outputs": [
    {
     "name": "stdout",
     "output_type": "stream",
     "text": [
      "Time of Flight: 17.28 sec\n"
     ]
    }
   ],
   "source": [
    "t_flight = prop_mass / mass_flow    # sec\n",
    "\n",
    "print (\"Time of Flight: %0.2f sec\" % t_flight)"
   ]
  },
  {
   "cell_type": "markdown",
   "metadata": {},
   "source": [
    "#### Step 5: Optimize for Flight Time\n",
    "\n",
    "Not a very impressive flight time, but now we have a starting point, and there's plenty of room to optimize...\n",
    "\n",
    "Now that we know the minimum values for choked flow while producing the necessary force to null out vertical acceleration of the vehicle, we can figure out which knobs to tune to optimize for flight time while checking/validating that we are still at choked flow. \n",
    "<br><br>\n",
    "Flight time optimization goals:\n",
    "1. Increase P_o to increase V_e and decrease mass flow rate and A thus increasing flight time.\n",
    "3. Optimization shall check choke flow model for compliance\n",
    "<br><br>"
   ]
  },
  {
   "cell_type": "code",
   "execution_count": 49,
   "metadata": {
    "collapsed": false
   },
   "outputs": [
    {
     "data": {
      "image/png": "[encoded data removed]",
      "text/plain": [
       "<matplotlib.figure.Figure at 0x103c90470>"
      ]
     },
     "metadata": {},
     "output_type": "display_data"
    },
    {
     "data": {
      "image/png": "[encoded data removed]",
      "text/plain": [
       "<matplotlib.figure.Figure at 0x10418add8>"
      ]
     },
     "metadata": {},
     "output_type": "display_data"
    }
   ],
   "source": [
    "# Time of Flight vs Chamber Pressure\n",
    "\n",
    "def calc_engine(P_o):    \n",
    "    Ma_t = np.sqrt((2 / (gamma - 1)) \\\n",
    "      * (((P_o / P_b) ** (           \\\n",
    "        (gamma - 1) / gamma))-1))\n",
    "                   \n",
    "    T_b = T_o/(1+(((gamma-1)/2)*(Ma_t)))\n",
    "\n",
    "    V_e = np.sqrt(((T_b * R) / molar_mass) \\\n",
    "      * ((2 * gamma) / (gamma - 1)) \\\n",
    "      * ((P_o / P_b) ** (       \\\n",
    "        (gamma - 1) / gamma))-1)\n",
    "\n",
    "    Isp = V_e / g\n",
    "    \n",
    "    F_nom = wet_mass * g    \n",
    "    \n",
    "    mass_flow = F_nom / V_e             # kg/s    \n",
    "    \n",
    "    A_t = (mass_flow*(1+(gamma-1)*((Ma_t**2)/2))**((gamma+1)/(2*(gamma-1))))/(Ma_t*P_o*np.sqrt(gamma/(R*T_o)))\n",
    "    \n",
    "    t_flight = prop_mass / mass_flow    # sec\n",
    "    \n",
    "    return t_flight, A_t\n",
    "\n",
    "# p_o_min calculated above\n",
    "p_step = 100000\n",
    "P_tank_max = 3.1026e+7\n",
    "\n",
    "# Sweep the pressure and plot the time of flight\n",
    "p_array = np.arange(int(P_o_min), int(P_tank_max), p_step)\n",
    "ToF_array, At_array = calc_engine(p_array)\n",
    "At_array *= 1e6     # Convert from m^2 to mm^2\n",
    "\n",
    "plt.figure(1)\n",
    "plt.xlabel('Pressure (Pa)')\n",
    "plt.ylabel('Time of Flight (sec)')\n",
    "plt.title('ToF vs Pressure')\n",
    "plt.plot(p_array, ToF_array)\n",
    "\n",
    "plt.figure(2)\n",
    "plt.xlabel('Pressure (Pa)')\n",
    "plt.ylabel('Area at Throat (mm^2)')\n",
    "plt.title('A_t vs Pressure')\n",
    "plt.plot(p_array, At_array)\n",
    "plt.show()"
   ]
  },
  {
   "cell_type": "markdown",
   "metadata": {},
   "source": [
    "As expected, we asymptote near a theoretical ToF limit near 16-17 seconds\n",
    "\n",
    "Why is this not value not 25 seconds? <br>\n",
    "Because we initially guessed a V_e limit of 1000 m/s based on a reference table, these results more accurately reflect the expected time of flight based on our vehicle model. However, our results are in family with the reference materal, so we can feel a little more confident with them.\n",
    "\n",
    "Here's yet another step where the engineer gets to decide a value.. what nominal chamber pressure shall we go with?\n",
    "\n",
    "First lets analyze what this graph is telling us:\n",
    "> - As pressure increases, time of flight increases\n",
    "> - We observe larger variations in time of flight as a function of error in pressure at lower pressures\n",
    "> - At higher pressures, the gains in time of flight are very small\n",
    "\n",
    "What we know about the real world and our rocket:\n",
    "> - The higher the pressure, the more mass and complexity there is for measuring and controlling it\n",
    "> - Tooling limitations: We can only make the throat of the nozzle so small\n",
    "> - Mass is our enemy: The more mass we can shed, the greater our flight time"
   ]
  },
  {
   "cell_type": "code",
   "execution_count": 50,
   "metadata": {
    "collapsed": false
   },
   "outputs": [
    {
     "name": "stdout",
     "output_type": "stream",
     "text": [
      "Selected ToF: 20.04 sec\n",
      "Selected A_t: 0.00000369 m^2\n",
      "Selected A_t: 3.69 mm^2\n",
      "Selected Throat Diameter: 2.17 mm\n"
     ]
    }
   ],
   "source": [
    "# Pick P_o, A_t, Time of Flight\n",
    "P_o = 0.1e7 # Pa (~145psi) [TODO: EXPLAIN THIS CHOICE]\n",
    "\n",
    "ToF, A_t = calc_engine(P_o)\n",
    "\n",
    "print (\"Selected ToF: %0.2f sec\" % ToF)\n",
    "print (\"Selected A_t: %0.8f m^2\" % A_t)\n",
    "print (\"Selected A_t: %.2f mm^2\" % (A_t*1e6))\n",
    "print (\"Selected Throat Diameter: %.2f mm\" % (2*(np.sqrt((A_t*1e6)/np.pi))) )"
   ]
  },
  {
   "cell_type": "markdown",
   "metadata": {},
   "source": [
    "Select desired exit velocity: M_e (in mach)"
   ]
  },
  {
   "cell_type": "code",
   "execution_count": 51,
   "metadata": {
    "collapsed": true
   },
   "outputs": [],
   "source": [
    "# Desired Exit Velocity (in Mach)\n",
    "Ma_e = 4 # This isn't right, update"
   ]
  },
  {
   "cell_type": "markdown",
   "metadata": {
    "collapsed": true
   },
   "source": [
    "#### Step 6: Further Optimize by Adding an Exit Nozzle\n",
    "\n",
    "Up until this point we've been assuming that the throat is the exit nozzle. The next step is to add an expansion at the end of the throat to maximize V_e (as per De Laval). The key to this is determining the desired area at the throat (see above) and calculating the area at the exit of the nozzle. Thankfully, this math isn't too bad. The Ae/At ratio is a direct function of the propellant chemical properties:\n",
    "\n",
    "\\begin{equation}\n",
    "\\frac{A_e}{A_t} = \\frac{1}{M_e}\\left[ \\left(\\frac{2}{\\gamma+1}\\right)\\left(1 + \\frac{\\gamma-1}{2}M_e^2\\right) \\right]^\\frac{\\gamma+1}{2(\\gamma-1)}\n",
    "\\end{equation}\n",
    "\n",
    "Since we already know A_t, we can now solve for A_e:\n",
    "\n",
    "\\begin{equation}\n",
    "A_e = \\frac{A_t}{M_e}\\left[ \\left(\\frac{2}{\\gamma+1}\\right)\\left(1 + \\frac{\\gamma-1}{2}M_e^2\\right) \\right]^\\frac{\\gamma+1}{2(\\gamma-1)}\n",
    "\\end{equation}"
   ]
  },
  {
   "cell_type": "code",
   "execution_count": 52,
   "metadata": {
    "collapsed": false,
    "scrolled": false
   },
   "outputs": [
    {
     "name": "stdout",
     "output_type": "stream",
     "text": [
      "Area at Exit: 0.00003954 m^2\n",
      "Area at Exit: 39.54 mm^2\n",
      "Selected Exit Diameter: 7.10 mm \n",
      "\n",
      "Ae/At Ratio: 10.73\n"
     ]
    }
   ],
   "source": [
    "A_e = (A_t/Ma_e)*(((2/(gamma+1))*(1+((gamma-1)/2)*(Ma_e**2)))**((gamma+1)/(2*(gamma-1))))\n",
    "\n",
    "print (\"Area at Exit: %0.8f m^2\" % A_e)\n",
    "print (\"Area at Exit: %.2f mm^2\" % (A_e*1e6))\n",
    "print (\"Selected Exit Diameter: %.2f mm \\n\" % (2*(np.sqrt((A_e*1e6)/np.pi))) )\n",
    "\n",
    "# Ae/At Ratio\n",
    "A_e_A_t = A_e / A_t\n",
    "print (\"Ae/At Ratio: %0.2f\" % A_e_A_t)"
   ]
  },
  {
   "cell_type": "markdown",
   "metadata": {
    "collapsed": true
   },
   "source": [
    "TODO: Recalculte ToF based on new V_e<br>\n",
    "TODO: Include \\begin{equation} F = \\dot{m}*V_e + A_e(P_e - P_{atm}) \\end{equation}"
   ]
  },
  {
   "cell_type": "code",
   "execution_count": 8,
   "metadata": {
    "collapsed": true
   },
   "outputs": [],
   "source": [
    "# Equation Pool\n",
    "#V_e = Ma_t*np.sqrt((gamma*R*T_b)/molar_mass)\n",
    "#P_b = P_o/(((1+((gamma-1)/2)*(Ma_t**2))**(gamma/(gamma-1))))\n",
    "#Ma_t = np.sqrt((2 / (gamma - 1)) \\\n",
    "#      * (((P_o / P_b) ** (\n",
    "#        (gamma - 1) / gamma))-1))"
   ]
  },
  {
   "cell_type": "code",
   "execution_count": null,
   "metadata": {
    "collapsed": true
   },
   "outputs": [],
   "source": []
  }
 ],
 "metadata": {
  "kernelspec": {
   "display_name": "Python 3",
   "language": "python",
   "name": "python3"
  },
  "language_info": {
   "codemirror_mode": {
    "name": "ipython",
    "version": 3
   },
   "file_extension": ".py",
   "mimetype": "text/x-python",
   "name": "python",
   "nbconvert_exporter": "python",
   "pygments_lexer": "ipython3",
   "version": "3.5.0"
  }
 },
 "nbformat": 4,
 "nbformat_minor": 0
}
